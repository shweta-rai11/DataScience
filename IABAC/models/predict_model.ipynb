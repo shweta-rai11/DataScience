{
 "cells": [
  {
   "cell_type": "markdown",
   "id": "d5843be5",
   "metadata": {},
   "source": [
    "# PROJECT ON INX FUTURE INC EMPLOYEE PERFORMANCE ANALYSIS:"
   ]
  },
  {
   "cell_type": "markdown",
   "id": "a7b1663b",
   "metadata": {},
   "source": [
    "## Business Case: INX Future Inc Employee Performance rating based on the given features:"
   ]
  },
  {
   "cell_type": "markdown",
   "id": "a2cb3050",
   "metadata": {},
   "source": [
    "#### MODEL CREATION & EVALUATION SUMMARY\n",
    "\n",
    "- Loading pre-process data\n",
    "- Defining dependant & independant features\n",
    "- Split training and testing data\n",
    "- Balancing the training data\n",
    "- Model creation, prediction & evaluation\n",
    "- Model saving"
   ]
  },
  {
   "cell_type": "markdown",
   "id": "2850e7b2",
   "metadata": {},
   "source": [
    "# Importing neccessary libraries-"
   ]
  },
  {
   "cell_type": "code",
   "execution_count": 1,
   "id": "1185f699",
   "metadata": {},
   "outputs": [],
   "source": [
    "import warnings\n",
    "warnings.filterwarnings('ignore')\n",
    "import numpy as np\n",
    "import pandas as pd\n",
    "import seaborn as sns\n",
    "from sklearn import metrics\n",
    "import matplotlib.pyplot as plt\n",
    "from prettytable import PrettyTable\n",
    "from sklearn.tree import DecisionTreeClassifier\n",
    "from sklearn.ensemble import RandomForestClassifier\n",
    "from sklearn.metrics import confusion_matrix,accuracy_score,recall_score,precision_score,classification_report,f1_score\n"
   ]
  },
  {
   "cell_type": "markdown",
   "id": "0d8cdf13",
   "metadata": {},
   "source": [
    "# Installation"
   ]
  },
  {
   "cell_type": "code",
   "execution_count": 2,
   "id": "99f6ab1d",
   "metadata": {},
   "outputs": [
    {
     "name": "stdout",
     "output_type": "stream",
     "text": [
      "Requirement already satisfied: imblearn in /Users/swetarai/miniconda3/lib/python3.10/site-packages (0.0)\n",
      "Requirement already satisfied: imbalanced-learn in /Users/swetarai/miniconda3/lib/python3.10/site-packages (from imblearn) (0.10.1)\n",
      "Requirement already satisfied: scipy>=1.3.2 in /Users/swetarai/miniconda3/lib/python3.10/site-packages (from imbalanced-learn->imblearn) (1.10.1)\n",
      "Requirement already satisfied: joblib>=1.1.1 in /Users/swetarai/miniconda3/lib/python3.10/site-packages (from imbalanced-learn->imblearn) (1.2.0)\n",
      "Requirement already satisfied: scikit-learn>=1.0.2 in /Users/swetarai/miniconda3/lib/python3.10/site-packages (from imbalanced-learn->imblearn) (1.2.2)\n",
      "Requirement already satisfied: numpy>=1.17.3 in /Users/swetarai/miniconda3/lib/python3.10/site-packages (from imbalanced-learn->imblearn) (1.24.2)\n",
      "Requirement already satisfied: threadpoolctl>=2.0.0 in /Users/swetarai/miniconda3/lib/python3.10/site-packages (from imbalanced-learn->imblearn) (3.1.0)\n"
     ]
    }
   ],
   "source": [
    "!pip install imblearn"
   ]
  },
  {
   "cell_type": "markdown",
   "id": "16683b75",
   "metadata": {},
   "source": [
    "# Loading the pre-processed data-"
   ]
  },
  {
   "cell_type": "code",
   "execution_count": 3,
   "id": "6d9d80fd",
   "metadata": {},
   "outputs": [
    {
     "data": {
      "text/html": [
       "<div>\n",
       "<style scoped>\n",
       "    .dataframe tbody tr th:only-of-type {\n",
       "        vertical-align: middle;\n",
       "    }\n",
       "\n",
       "    .dataframe tbody tr th {\n",
       "        vertical-align: top;\n",
       "    }\n",
       "\n",
       "    .dataframe thead th {\n",
       "        text-align: right;\n",
       "    }\n",
       "</style>\n",
       "<table border=\"1\" class=\"dataframe\">\n",
       "  <thead>\n",
       "    <tr style=\"text-align: right;\">\n",
       "      <th></th>\n",
       "      <th>Age</th>\n",
       "      <th>Gender</th>\n",
       "      <th>EducationBackground</th>\n",
       "      <th>MaritalStatus</th>\n",
       "      <th>EmpDepartment</th>\n",
       "      <th>EmpJobRole</th>\n",
       "      <th>BusinessTravelFrequency</th>\n",
       "      <th>DistanceFromHome</th>\n",
       "      <th>EmpEducationLevel</th>\n",
       "      <th>EmpEnvironmentSatisfaction</th>\n",
       "      <th>EmpHourlyRate</th>\n",
       "      <th>EmpJobInvolvement</th>\n",
       "      <th>EmpJobLevel</th>\n",
       "      <th>EmpJobSatisfaction</th>\n",
       "      <th>NumCompaniesWorked</th>\n",
       "      <th>OverTime</th>\n",
       "      <th>EmpLastSalaryHikePercent</th>\n",
       "      <th>EmpRelationshipSatisfaction</th>\n",
       "      <th>TrainingTimesLastYear</th>\n",
       "      <th>EmpWorkLifeBalance</th>\n",
       "      <th>ExperienceYearsInCurrentRole</th>\n",
       "      <th>YearsWithCurrManager</th>\n",
       "      <th>Attrition</th>\n",
       "      <th>squ_YearsSinceLastPromotion</th>\n",
       "      <th>squ_TotalWorkExperienceInYears</th>\n",
       "      <th>squ_ExperienceYearsAtThisCompany</th>\n",
       "      <th>PerformanceRating</th>\n",
       "    </tr>\n",
       "  </thead>\n",
       "  <tbody>\n",
       "    <tr>\n",
       "      <th>0</th>\n",
       "      <td>-0.541458</td>\n",
       "      <td>0.809427</td>\n",
       "      <td>-0.179459</td>\n",
       "      <td>1.236181</td>\n",
       "      <td>1.052350</td>\n",
       "      <td>0.833426</td>\n",
       "      <td>0.596508</td>\n",
       "      <td>0.102061</td>\n",
       "      <td>0.103000</td>\n",
       "      <td>1.177978</td>\n",
       "      <td>-0.543569</td>\n",
       "      <td>0.379608</td>\n",
       "      <td>-0.060955</td>\n",
       "      <td>1.151824</td>\n",
       "      <td>-0.674538</td>\n",
       "      <td>-0.645573</td>\n",
       "      <td>-0.889111</td>\n",
       "      <td>1.185833</td>\n",
       "      <td>-0.622235</td>\n",
       "      <td>-1.064491</td>\n",
       "      <td>0.749766</td>\n",
       "      <td>1.100251</td>\n",
       "      <td>-0.417335</td>\n",
       "      <td>-1.057559</td>\n",
       "      <td>0.108373</td>\n",
       "      <td>0.931441</td>\n",
       "      <td>1</td>\n",
       "    </tr>\n",
       "    <tr>\n",
       "      <th>1</th>\n",
       "      <td>1.109888</td>\n",
       "      <td>0.809427</td>\n",
       "      <td>-0.179459</td>\n",
       "      <td>1.236181</td>\n",
       "      <td>1.052350</td>\n",
       "      <td>0.833426</td>\n",
       "      <td>0.596508</td>\n",
       "      <td>0.591464</td>\n",
       "      <td>1.061145</td>\n",
       "      <td>1.177978</td>\n",
       "      <td>-1.187042</td>\n",
       "      <td>0.379608</td>\n",
       "      <td>-0.060955</td>\n",
       "      <td>-1.574386</td>\n",
       "      <td>-0.269410</td>\n",
       "      <td>-0.645573</td>\n",
       "      <td>-0.889111</td>\n",
       "      <td>1.185833</td>\n",
       "      <td>-0.622235</td>\n",
       "      <td>0.365956</td>\n",
       "      <td>0.749766</td>\n",
       "      <td>0.817773</td>\n",
       "      <td>-0.417335</td>\n",
       "      <td>0.151501</td>\n",
       "      <td>1.375596</td>\n",
       "      <td>0.385060</td>\n",
       "      <td>1</td>\n",
       "    </tr>\n",
       "    <tr>\n",
       "      <th>2</th>\n",
       "      <td>0.339260</td>\n",
       "      <td>0.809427</td>\n",
       "      <td>-0.943112</td>\n",
       "      <td>-0.132285</td>\n",
       "      <td>1.052350</td>\n",
       "      <td>0.833426</td>\n",
       "      <td>-0.876351</td>\n",
       "      <td>-0.509693</td>\n",
       "      <td>1.061145</td>\n",
       "      <td>1.177978</td>\n",
       "      <td>-0.890055</td>\n",
       "      <td>-1.035081</td>\n",
       "      <td>0.842082</td>\n",
       "      <td>-1.574386</td>\n",
       "      <td>0.945974</td>\n",
       "      <td>1.549010</td>\n",
       "      <td>1.594054</td>\n",
       "      <td>0.255768</td>\n",
       "      <td>-0.622235</td>\n",
       "      <td>0.365956</td>\n",
       "      <td>2.410786</td>\n",
       "      <td>2.230163</td>\n",
       "      <td>-0.417335</td>\n",
       "      <td>0.151501</td>\n",
       "      <td>1.375596</td>\n",
       "      <td>2.074247</td>\n",
       "      <td>1</td>\n",
       "    </tr>\n",
       "    <tr>\n",
       "      <th>3</th>\n",
       "      <td>0.449349</td>\n",
       "      <td>0.809427</td>\n",
       "      <td>-1.706766</td>\n",
       "      <td>-1.500751</td>\n",
       "      <td>-0.126754</td>\n",
       "      <td>-0.218658</td>\n",
       "      <td>0.596508</td>\n",
       "      <td>0.102061</td>\n",
       "      <td>1.061145</td>\n",
       "      <td>-0.656641</td>\n",
       "      <td>0.347393</td>\n",
       "      <td>-1.035081</td>\n",
       "      <td>2.648157</td>\n",
       "      <td>1.151824</td>\n",
       "      <td>0.135718</td>\n",
       "      <td>-0.645573</td>\n",
       "      <td>-0.061389</td>\n",
       "      <td>-0.674297</td>\n",
       "      <td>-0.622235</td>\n",
       "      <td>-1.064491</td>\n",
       "      <td>0.472929</td>\n",
       "      <td>0.535296</td>\n",
       "      <td>-0.417335</td>\n",
       "      <td>0.151501</td>\n",
       "      <td>1.688755</td>\n",
       "      <td>-0.048302</td>\n",
       "      <td>1</td>\n",
       "    </tr>\n",
       "    <tr>\n",
       "      <th>4</th>\n",
       "      <td>2.541054</td>\n",
       "      <td>0.809427</td>\n",
       "      <td>-0.179459</td>\n",
       "      <td>1.236181</td>\n",
       "      <td>1.052350</td>\n",
       "      <td>0.833426</td>\n",
       "      <td>0.596508</td>\n",
       "      <td>0.836165</td>\n",
       "      <td>1.061145</td>\n",
       "      <td>-1.573950</td>\n",
       "      <td>0.891870</td>\n",
       "      <td>0.379608</td>\n",
       "      <td>-0.060955</td>\n",
       "      <td>-1.574386</td>\n",
       "      <td>2.161359</td>\n",
       "      <td>-0.645573</td>\n",
       "      <td>-0.337297</td>\n",
       "      <td>1.185833</td>\n",
       "      <td>-1.414051</td>\n",
       "      <td>0.365956</td>\n",
       "      <td>-0.634417</td>\n",
       "      <td>-0.594616</td>\n",
       "      <td>-0.417335</td>\n",
       "      <td>0.652311</td>\n",
       "      <td>0.108373</td>\n",
       "      <td>-0.917658</td>\n",
       "      <td>1</td>\n",
       "    </tr>\n",
       "  </tbody>\n",
       "</table>\n",
       "</div>"
      ],
      "text/plain": [
       "        Age    Gender  EducationBackground  MaritalStatus  EmpDepartment  \\\n",
       "0 -0.541458  0.809427            -0.179459       1.236181       1.052350   \n",
       "1  1.109888  0.809427            -0.179459       1.236181       1.052350   \n",
       "2  0.339260  0.809427            -0.943112      -0.132285       1.052350   \n",
       "3  0.449349  0.809427            -1.706766      -1.500751      -0.126754   \n",
       "4  2.541054  0.809427            -0.179459       1.236181       1.052350   \n",
       "\n",
       "   EmpJobRole  BusinessTravelFrequency  DistanceFromHome  EmpEducationLevel  \\\n",
       "0    0.833426                 0.596508          0.102061           0.103000   \n",
       "1    0.833426                 0.596508          0.591464           1.061145   \n",
       "2    0.833426                -0.876351         -0.509693           1.061145   \n",
       "3   -0.218658                 0.596508          0.102061           1.061145   \n",
       "4    0.833426                 0.596508          0.836165           1.061145   \n",
       "\n",
       "   EmpEnvironmentSatisfaction  EmpHourlyRate  EmpJobInvolvement  EmpJobLevel  \\\n",
       "0                    1.177978      -0.543569           0.379608    -0.060955   \n",
       "1                    1.177978      -1.187042           0.379608    -0.060955   \n",
       "2                    1.177978      -0.890055          -1.035081     0.842082   \n",
       "3                   -0.656641       0.347393          -1.035081     2.648157   \n",
       "4                   -1.573950       0.891870           0.379608    -0.060955   \n",
       "\n",
       "   EmpJobSatisfaction  NumCompaniesWorked  OverTime  EmpLastSalaryHikePercent  \\\n",
       "0            1.151824           -0.674538 -0.645573                 -0.889111   \n",
       "1           -1.574386           -0.269410 -0.645573                 -0.889111   \n",
       "2           -1.574386            0.945974  1.549010                  1.594054   \n",
       "3            1.151824            0.135718 -0.645573                 -0.061389   \n",
       "4           -1.574386            2.161359 -0.645573                 -0.337297   \n",
       "\n",
       "   EmpRelationshipSatisfaction  TrainingTimesLastYear  EmpWorkLifeBalance  \\\n",
       "0                     1.185833              -0.622235           -1.064491   \n",
       "1                     1.185833              -0.622235            0.365956   \n",
       "2                     0.255768              -0.622235            0.365956   \n",
       "3                    -0.674297              -0.622235           -1.064491   \n",
       "4                     1.185833              -1.414051            0.365956   \n",
       "\n",
       "   ExperienceYearsInCurrentRole  YearsWithCurrManager  Attrition  \\\n",
       "0                      0.749766              1.100251  -0.417335   \n",
       "1                      0.749766              0.817773  -0.417335   \n",
       "2                      2.410786              2.230163  -0.417335   \n",
       "3                      0.472929              0.535296  -0.417335   \n",
       "4                     -0.634417             -0.594616  -0.417335   \n",
       "\n",
       "   squ_YearsSinceLastPromotion  squ_TotalWorkExperienceInYears  \\\n",
       "0                    -1.057559                        0.108373   \n",
       "1                     0.151501                        1.375596   \n",
       "2                     0.151501                        1.375596   \n",
       "3                     0.151501                        1.688755   \n",
       "4                     0.652311                        0.108373   \n",
       "\n",
       "   squ_ExperienceYearsAtThisCompany  PerformanceRating  \n",
       "0                          0.931441                  1  \n",
       "1                          0.385060                  1  \n",
       "2                          2.074247                  1  \n",
       "3                         -0.048302                  1  \n",
       "4                         -0.917658                  1  "
      ]
     },
     "execution_count": 3,
     "metadata": {},
     "output_type": "execute_result"
    }
   ],
   "source": [
    "data = pd.read_csv('square1.csv')\n",
    "pd.set_option('display.max_columns',None) # Used to display the all features\n",
    "data.drop('Unnamed: 0',axis=1,inplace=True) # Drop unwanted feature\n",
    "data.head()"
   ]
  },
  {
   "cell_type": "markdown",
   "id": "93b7074e",
   "metadata": {},
   "source": [
    "# Defining the Independent & Dependent features-"
   ]
  },
  {
   "cell_type": "code",
   "execution_count": 4,
   "id": "8c151f5f",
   "metadata": {},
   "outputs": [],
   "source": [
    "X = data.iloc[:,:-1]\n",
    "y = data.PerformanceRating"
   ]
  },
  {
   "cell_type": "code",
   "execution_count": 5,
   "id": "5506ecb3",
   "metadata": {},
   "outputs": [
    {
     "data": {
      "text/html": [
       "<div>\n",
       "<style scoped>\n",
       "    .dataframe tbody tr th:only-of-type {\n",
       "        vertical-align: middle;\n",
       "    }\n",
       "\n",
       "    .dataframe tbody tr th {\n",
       "        vertical-align: top;\n",
       "    }\n",
       "\n",
       "    .dataframe thead th {\n",
       "        text-align: right;\n",
       "    }\n",
       "</style>\n",
       "<table border=\"1\" class=\"dataframe\">\n",
       "  <thead>\n",
       "    <tr style=\"text-align: right;\">\n",
       "      <th></th>\n",
       "      <th>Age</th>\n",
       "      <th>Gender</th>\n",
       "      <th>EducationBackground</th>\n",
       "      <th>MaritalStatus</th>\n",
       "      <th>EmpDepartment</th>\n",
       "      <th>EmpJobRole</th>\n",
       "      <th>BusinessTravelFrequency</th>\n",
       "      <th>DistanceFromHome</th>\n",
       "      <th>EmpEducationLevel</th>\n",
       "      <th>EmpEnvironmentSatisfaction</th>\n",
       "      <th>EmpHourlyRate</th>\n",
       "      <th>EmpJobInvolvement</th>\n",
       "      <th>EmpJobLevel</th>\n",
       "      <th>EmpJobSatisfaction</th>\n",
       "      <th>NumCompaniesWorked</th>\n",
       "      <th>OverTime</th>\n",
       "      <th>EmpLastSalaryHikePercent</th>\n",
       "      <th>EmpRelationshipSatisfaction</th>\n",
       "      <th>TrainingTimesLastYear</th>\n",
       "      <th>EmpWorkLifeBalance</th>\n",
       "      <th>ExperienceYearsInCurrentRole</th>\n",
       "      <th>YearsWithCurrManager</th>\n",
       "      <th>Attrition</th>\n",
       "      <th>squ_YearsSinceLastPromotion</th>\n",
       "      <th>squ_TotalWorkExperienceInYears</th>\n",
       "      <th>squ_ExperienceYearsAtThisCompany</th>\n",
       "    </tr>\n",
       "  </thead>\n",
       "  <tbody>\n",
       "    <tr>\n",
       "      <th>0</th>\n",
       "      <td>-0.541458</td>\n",
       "      <td>0.809427</td>\n",
       "      <td>-0.179459</td>\n",
       "      <td>1.236181</td>\n",
       "      <td>1.052350</td>\n",
       "      <td>0.833426</td>\n",
       "      <td>0.596508</td>\n",
       "      <td>0.102061</td>\n",
       "      <td>0.103000</td>\n",
       "      <td>1.177978</td>\n",
       "      <td>-0.543569</td>\n",
       "      <td>0.379608</td>\n",
       "      <td>-0.060955</td>\n",
       "      <td>1.151824</td>\n",
       "      <td>-0.674538</td>\n",
       "      <td>-0.645573</td>\n",
       "      <td>-0.889111</td>\n",
       "      <td>1.185833</td>\n",
       "      <td>-0.622235</td>\n",
       "      <td>-1.064491</td>\n",
       "      <td>0.749766</td>\n",
       "      <td>1.100251</td>\n",
       "      <td>-0.417335</td>\n",
       "      <td>-1.057559</td>\n",
       "      <td>0.108373</td>\n",
       "      <td>0.931441</td>\n",
       "    </tr>\n",
       "    <tr>\n",
       "      <th>1</th>\n",
       "      <td>1.109888</td>\n",
       "      <td>0.809427</td>\n",
       "      <td>-0.179459</td>\n",
       "      <td>1.236181</td>\n",
       "      <td>1.052350</td>\n",
       "      <td>0.833426</td>\n",
       "      <td>0.596508</td>\n",
       "      <td>0.591464</td>\n",
       "      <td>1.061145</td>\n",
       "      <td>1.177978</td>\n",
       "      <td>-1.187042</td>\n",
       "      <td>0.379608</td>\n",
       "      <td>-0.060955</td>\n",
       "      <td>-1.574386</td>\n",
       "      <td>-0.269410</td>\n",
       "      <td>-0.645573</td>\n",
       "      <td>-0.889111</td>\n",
       "      <td>1.185833</td>\n",
       "      <td>-0.622235</td>\n",
       "      <td>0.365956</td>\n",
       "      <td>0.749766</td>\n",
       "      <td>0.817773</td>\n",
       "      <td>-0.417335</td>\n",
       "      <td>0.151501</td>\n",
       "      <td>1.375596</td>\n",
       "      <td>0.385060</td>\n",
       "    </tr>\n",
       "    <tr>\n",
       "      <th>2</th>\n",
       "      <td>0.339260</td>\n",
       "      <td>0.809427</td>\n",
       "      <td>-0.943112</td>\n",
       "      <td>-0.132285</td>\n",
       "      <td>1.052350</td>\n",
       "      <td>0.833426</td>\n",
       "      <td>-0.876351</td>\n",
       "      <td>-0.509693</td>\n",
       "      <td>1.061145</td>\n",
       "      <td>1.177978</td>\n",
       "      <td>-0.890055</td>\n",
       "      <td>-1.035081</td>\n",
       "      <td>0.842082</td>\n",
       "      <td>-1.574386</td>\n",
       "      <td>0.945974</td>\n",
       "      <td>1.549010</td>\n",
       "      <td>1.594054</td>\n",
       "      <td>0.255768</td>\n",
       "      <td>-0.622235</td>\n",
       "      <td>0.365956</td>\n",
       "      <td>2.410786</td>\n",
       "      <td>2.230163</td>\n",
       "      <td>-0.417335</td>\n",
       "      <td>0.151501</td>\n",
       "      <td>1.375596</td>\n",
       "      <td>2.074247</td>\n",
       "    </tr>\n",
       "    <tr>\n",
       "      <th>3</th>\n",
       "      <td>0.449349</td>\n",
       "      <td>0.809427</td>\n",
       "      <td>-1.706766</td>\n",
       "      <td>-1.500751</td>\n",
       "      <td>-0.126754</td>\n",
       "      <td>-0.218658</td>\n",
       "      <td>0.596508</td>\n",
       "      <td>0.102061</td>\n",
       "      <td>1.061145</td>\n",
       "      <td>-0.656641</td>\n",
       "      <td>0.347393</td>\n",
       "      <td>-1.035081</td>\n",
       "      <td>2.648157</td>\n",
       "      <td>1.151824</td>\n",
       "      <td>0.135718</td>\n",
       "      <td>-0.645573</td>\n",
       "      <td>-0.061389</td>\n",
       "      <td>-0.674297</td>\n",
       "      <td>-0.622235</td>\n",
       "      <td>-1.064491</td>\n",
       "      <td>0.472929</td>\n",
       "      <td>0.535296</td>\n",
       "      <td>-0.417335</td>\n",
       "      <td>0.151501</td>\n",
       "      <td>1.688755</td>\n",
       "      <td>-0.048302</td>\n",
       "    </tr>\n",
       "    <tr>\n",
       "      <th>4</th>\n",
       "      <td>2.541054</td>\n",
       "      <td>0.809427</td>\n",
       "      <td>-0.179459</td>\n",
       "      <td>1.236181</td>\n",
       "      <td>1.052350</td>\n",
       "      <td>0.833426</td>\n",
       "      <td>0.596508</td>\n",
       "      <td>0.836165</td>\n",
       "      <td>1.061145</td>\n",
       "      <td>-1.573950</td>\n",
       "      <td>0.891870</td>\n",
       "      <td>0.379608</td>\n",
       "      <td>-0.060955</td>\n",
       "      <td>-1.574386</td>\n",
       "      <td>2.161359</td>\n",
       "      <td>-0.645573</td>\n",
       "      <td>-0.337297</td>\n",
       "      <td>1.185833</td>\n",
       "      <td>-1.414051</td>\n",
       "      <td>0.365956</td>\n",
       "      <td>-0.634417</td>\n",
       "      <td>-0.594616</td>\n",
       "      <td>-0.417335</td>\n",
       "      <td>0.652311</td>\n",
       "      <td>0.108373</td>\n",
       "      <td>-0.917658</td>\n",
       "    </tr>\n",
       "  </tbody>\n",
       "</table>\n",
       "</div>"
      ],
      "text/plain": [
       "        Age    Gender  EducationBackground  MaritalStatus  EmpDepartment  \\\n",
       "0 -0.541458  0.809427            -0.179459       1.236181       1.052350   \n",
       "1  1.109888  0.809427            -0.179459       1.236181       1.052350   \n",
       "2  0.339260  0.809427            -0.943112      -0.132285       1.052350   \n",
       "3  0.449349  0.809427            -1.706766      -1.500751      -0.126754   \n",
       "4  2.541054  0.809427            -0.179459       1.236181       1.052350   \n",
       "\n",
       "   EmpJobRole  BusinessTravelFrequency  DistanceFromHome  EmpEducationLevel  \\\n",
       "0    0.833426                 0.596508          0.102061           0.103000   \n",
       "1    0.833426                 0.596508          0.591464           1.061145   \n",
       "2    0.833426                -0.876351         -0.509693           1.061145   \n",
       "3   -0.218658                 0.596508          0.102061           1.061145   \n",
       "4    0.833426                 0.596508          0.836165           1.061145   \n",
       "\n",
       "   EmpEnvironmentSatisfaction  EmpHourlyRate  EmpJobInvolvement  EmpJobLevel  \\\n",
       "0                    1.177978      -0.543569           0.379608    -0.060955   \n",
       "1                    1.177978      -1.187042           0.379608    -0.060955   \n",
       "2                    1.177978      -0.890055          -1.035081     0.842082   \n",
       "3                   -0.656641       0.347393          -1.035081     2.648157   \n",
       "4                   -1.573950       0.891870           0.379608    -0.060955   \n",
       "\n",
       "   EmpJobSatisfaction  NumCompaniesWorked  OverTime  EmpLastSalaryHikePercent  \\\n",
       "0            1.151824           -0.674538 -0.645573                 -0.889111   \n",
       "1           -1.574386           -0.269410 -0.645573                 -0.889111   \n",
       "2           -1.574386            0.945974  1.549010                  1.594054   \n",
       "3            1.151824            0.135718 -0.645573                 -0.061389   \n",
       "4           -1.574386            2.161359 -0.645573                 -0.337297   \n",
       "\n",
       "   EmpRelationshipSatisfaction  TrainingTimesLastYear  EmpWorkLifeBalance  \\\n",
       "0                     1.185833              -0.622235           -1.064491   \n",
       "1                     1.185833              -0.622235            0.365956   \n",
       "2                     0.255768              -0.622235            0.365956   \n",
       "3                    -0.674297              -0.622235           -1.064491   \n",
       "4                     1.185833              -1.414051            0.365956   \n",
       "\n",
       "   ExperienceYearsInCurrentRole  YearsWithCurrManager  Attrition  \\\n",
       "0                      0.749766              1.100251  -0.417335   \n",
       "1                      0.749766              0.817773  -0.417335   \n",
       "2                      2.410786              2.230163  -0.417335   \n",
       "3                      0.472929              0.535296  -0.417335   \n",
       "4                     -0.634417             -0.594616  -0.417335   \n",
       "\n",
       "   squ_YearsSinceLastPromotion  squ_TotalWorkExperienceInYears  \\\n",
       "0                    -1.057559                        0.108373   \n",
       "1                     0.151501                        1.375596   \n",
       "2                     0.151501                        1.375596   \n",
       "3                     0.151501                        1.688755   \n",
       "4                     0.652311                        0.108373   \n",
       "\n",
       "   squ_ExperienceYearsAtThisCompany  \n",
       "0                          0.931441  \n",
       "1                          0.385060  \n",
       "2                          2.074247  \n",
       "3                         -0.048302  \n",
       "4                         -0.917658  "
      ]
     },
     "execution_count": 5,
     "metadata": {},
     "output_type": "execute_result"
    }
   ],
   "source": [
    "X.head()"
   ]
  },
  {
   "cell_type": "code",
   "execution_count": 6,
   "id": "50585ffa",
   "metadata": {},
   "outputs": [
    {
     "data": {
      "text/plain": [
       "0    1\n",
       "1    1\n",
       "2    1\n",
       "3    1\n",
       "4    1\n",
       "Name: PerformanceRating, dtype: int64"
      ]
     },
     "execution_count": 6,
     "metadata": {},
     "output_type": "execute_result"
    }
   ],
   "source": [
    "y.head()"
   ]
  },
  {
   "cell_type": "markdown",
   "id": "d2903ea1",
   "metadata": {},
   "source": [
    "# Spliting the training and testing data"
   ]
  },
  {
   "cell_type": "code",
   "execution_count": 7,
   "id": "97e76034",
   "metadata": {},
   "outputs": [],
   "source": [
    "from sklearn.model_selection import train_test_split\n",
    "X_train,X_test,y_train,y_test=train_test_split(X, y,random_state=42,test_size=0.25)"
   ]
  },
  {
   "cell_type": "markdown",
   "id": "00596030",
   "metadata": {},
   "source": [
    "# Balancing the training data-"
   ]
  },
  {
   "cell_type": "markdown",
   "id": "fcb9fa33",
   "metadata": {},
   "source": [
    "# SMOTE- \n",
    "- SMOTE stands for Synthetic Minority Oversampling Technique.\n",
    "- It is a statistical technique for increasing the number of cases in the dataset in a balanced way. The component works by generating new instances from existing minority cases that you supply as input.\n",
    "- SMOTE works by utilizing a k-nearest neighbour algorithm to create synthetic data.\n",
    "- SMOTE first starts by choosing random data from the minority class, then k-nearest neighbors from the data are set.\n",
    "- It is done when the dataset is imbalance in case of Classification task."
   ]
  },
  {
   "cell_type": "code",
   "execution_count": 8,
   "id": "a3f77622",
   "metadata": {},
   "outputs": [],
   "source": [
    "from imblearn.over_sampling import SMOTE\n",
    "smote = SMOTE()"
   ]
  },
  {
   "cell_type": "markdown",
   "id": "f7d7077e",
   "metadata": {},
   "source": [
    "- **Checking distribution before applying smote** "
   ]
  },
  {
   "cell_type": "code",
   "execution_count": 9,
   "id": "623c9ed8",
   "metadata": {},
   "outputs": [
    {
     "data": {
      "text/plain": [
       "<AxesSubplot:title={'center':'Class distribution before appying SMOTE'}, xlabel='Outcome'>"
      ]
     },
     "execution_count": 9,
     "metadata": {},
     "output_type": "execute_result"
    },
    {
     "data": {
      "image/png": "[encoded data removed]",
      "text/plain": [
       "<Figure size 432x288 with 1 Axes>"
      ]
     },
     "metadata": {
      "needs_background": "light"
     },
     "output_type": "display_data"
    }
   ],
   "source": [
    "pd.Series(y_train).value_counts().plot(kind='bar',color='green',title='Class distribution before appying SMOTE', xlabel='Outcome')\n"
   ]
  },
  {
   "cell_type": "code",
   "execution_count": 10,
   "id": "74f21999",
   "metadata": {},
   "outputs": [],
   "source": [
    "X_smote, y_smote = smote.fit_resample(X_train,y_train)"
   ]
  },
  {
   "cell_type": "markdown",
   "id": "7349bf07",
   "metadata": {},
   "source": [
    "- **Checking distribution after applying smote**"
   ]
  },
  {
   "cell_type": "code",
   "execution_count": 11,
   "id": "e9401ade",
   "metadata": {},
   "outputs": [
    {
     "data": {
      "text/plain": [
       "<AxesSubplot:title={'center':'Class distribution after appying SMOTE'}, xlabel='Outcome'>"
      ]
     },
     "execution_count": 11,
     "metadata": {},
     "output_type": "execute_result"
    },
    {
     "data": {
      "image/png": "[encoded data removed]",
      "text/plain": [
       "<Figure size 432x288 with 1 Axes>"
      ]
     },
     "metadata": {
      "needs_background": "light"
     },
     "output_type": "display_data"
    }
   ],
   "source": [
    "pd.Series(y_smote).value_counts().plot(kind='bar',color='green',title='Class distribution after appying SMOTE', xlabel='Outcome')\n"
   ]
  },
  {
   "cell_type": "markdown",
   "id": "dde5405b",
   "metadata": {},
   "source": [
    "# Model Creation(TESTING DATA):-\n",
    "\n",
    "**AIM**\n",
    "- To create a generalised model having low bias and low variance.\n",
    "\n",
    "**ALGORITHMS USED**\n",
    "- Logistic Regression\n",
    "- Support Vector Machine(Classifier)\n",
    "- Support Vector Machine(Classifier)-Hyperparameter tuning.\n",
    "- K-Nearest Neighbour(Classifier)\n",
    "- K-Nearest Neighbour(Bagging)-Ensemble technique.\n",
    "- Decision Tree(Classifier)\n",
    "- Decision Tree(Classifier)-Hyperparameter tuning.\n",
    "- Random Forest.\n",
    "- Random Forest-Hyperparameter tuning\n",
    "- Gradient Bossting- Boosting Technique.\n",
    "- Artificial Neural Network."
   ]
  },
  {
   "cell_type": "markdown",
   "id": "7f856584",
   "metadata": {},
   "source": [
    "## Logistic Regression"
   ]
  },
  {
   "cell_type": "code",
   "execution_count": 12,
   "id": "a70585e3",
   "metadata": {},
   "outputs": [],
   "source": [
    "from sklearn.linear_model import LogisticRegression\n",
    "clf=LogisticRegression()"
   ]
  },
  {
   "cell_type": "code",
   "execution_count": 13,
   "id": "0a9df9b9",
   "metadata": {},
   "outputs": [
    {
     "data": {
      "text/html": [
       "<style>#sk-container-id-1 {color: black;background-color: white;}#sk-container-id-1 pre{padding: 0;}#sk-container-id-1 div.sk-toggleable {background-color: white;}#sk-container-id-1 label.sk-toggleable__label {cursor: pointer;display: block;width: 100%;margin-bottom: 0;padding: 0.3em;box-sizing: border-box;text-align: center;}#sk-container-id-1 label.sk-toggleable__label-arrow:before {content: \"▸\";float: left;margin-right: 0.25em;color: #696969;}#sk-container-id-1 label.sk-toggleable__label-arrow:hover:before {color: black;}#sk-container-id-1 div.sk-estimator:hover label.sk-toggleable__label-arrow:before {color: black;}#sk-container-id-1 div.sk-toggleable__content {max-height: 0;max-width: 0;overflow: hidden;text-align: left;background-color: #f0f8ff;}#sk-container-id-1 div.sk-toggleable__content pre {margin: 0.2em;color: black;border-radius: 0.25em;background-color: #f0f8ff;}#sk-container-id-1 input.sk-toggleable__control:checked~div.sk-toggleable__content {max-height: 200px;max-width: 100%;overflow: auto;}#sk-container-id-1 input.sk-toggleable__control:checked~label.sk-toggleable__label-arrow:before {content: \"▾\";}#sk-container-id-1 div.sk-estimator input.sk-toggleable__control:checked~label.sk-toggleable__label {background-color: #d4ebff;}#sk-container-id-1 div.sk-label input.sk-toggleable__control:checked~label.sk-toggleable__label {background-color: #d4ebff;}#sk-container-id-1 input.sk-hidden--visually {border: 0;clip: rect(1px 1px 1px 1px);clip: rect(1px, 1px, 1px, 1px);height: 1px;margin: -1px;overflow: hidden;padding: 0;position: absolute;width: 1px;}#sk-container-id-1 div.sk-estimator {font-family: monospace;background-color: #f0f8ff;border: 1px dotted black;border-radius: 0.25em;box-sizing: border-box;margin-bottom: 0.5em;}#sk-container-id-1 div.sk-estimator:hover {background-color: #d4ebff;}#sk-container-id-1 div.sk-parallel-item::after {content: \"\";width: 100%;border-bottom: 1px solid gray;flex-grow: 1;}#sk-container-id-1 div.sk-label:hover label.sk-toggleable__label {background-color: #d4ebff;}#sk-container-id-1 div.sk-serial::before {content: \"\";position: absolute;border-left: 1px solid gray;box-sizing: border-box;top: 0;bottom: 0;left: 50%;z-index: 0;}#sk-container-id-1 div.sk-serial {display: flex;flex-direction: column;align-items: center;background-color: white;padding-right: 0.2em;padding-left: 0.2em;position: relative;}#sk-container-id-1 div.sk-item {position: relative;z-index: 1;}#sk-container-id-1 div.sk-parallel {display: flex;align-items: stretch;justify-content: center;background-color: white;position: relative;}#sk-container-id-1 div.sk-item::before, #sk-container-id-1 div.sk-parallel-item::before {content: \"\";position: absolute;border-left: 1px solid gray;box-sizing: border-box;top: 0;bottom: 0;left: 50%;z-index: -1;}#sk-container-id-1 div.sk-parallel-item {display: flex;flex-direction: column;z-index: 1;position: relative;background-color: white;}#sk-container-id-1 div.sk-parallel-item:first-child::after {align-self: flex-end;width: 50%;}#sk-container-id-1 div.sk-parallel-item:last-child::after {align-self: flex-start;width: 50%;}#sk-container-id-1 div.sk-parallel-item:only-child::after {width: 0;}#sk-container-id-1 div.sk-dashed-wrapped {border: 1px dashed gray;margin: 0 0.4em 0.5em 0.4em;box-sizing: border-box;padding-bottom: 0.4em;background-color: white;}#sk-container-id-1 div.sk-label label {font-family: monospace;font-weight: bold;display: inline-block;line-height: 1.2em;}#sk-container-id-1 div.sk-label-container {text-align: center;}#sk-container-id-1 div.sk-container {/* jupyter's `normalize.less` sets `[hidden] { display: none; }` but bootstrap.min.css set `[hidden] { display: none !important; }` so we also need the `!important` here to be able to override the default hidden behavior on the sphinx rendered scikit-learn.org. See: https://github.com/scikit-learn/scikit-learn/issues/21755 */display: inline-block !important;position: relative;}#sk-container-id-1 div.sk-text-repr-fallback {display: none;}</style><div id=\"sk-container-id-1\" class=\"sk-top-container\"><div class=\"sk-text-repr-fallback\"><pre>LogisticRegression()</pre><b>In a Jupyter environment, please rerun this cell to show the HTML representation or trust the notebook. <br />On GitHub, the HTML representation is unable to render, please try loading this page with nbviewer.org.</b></div><div class=\"sk-container\" hidden><div class=\"sk-item\"><div class=\"sk-estimator sk-toggleable\"><input class=\"sk-toggleable__control sk-hidden--visually\" id=\"sk-estimator-id-1\" type=\"checkbox\" checked><label for=\"sk-estimator-id-1\" class=\"sk-toggleable__label sk-toggleable__label-arrow\">LogisticRegression</label><div class=\"sk-toggleable__content\"><pre>LogisticRegression()</pre></div></div></div></div></div>"
      ],
      "text/plain": [
       "LogisticRegression()"
      ]
     },
     "execution_count": 13,
     "metadata": {},
     "output_type": "execute_result"
    }
   ],
   "source": [
    "clf.fit(X_smote,y_smote) "
   ]
  },
  {
   "cell_type": "markdown",
   "id": "f30df4cf",
   "metadata": {},
   "source": [
    "**Prediction on test data**"
   ]
  },
  {
   "cell_type": "code",
   "execution_count": 14,
   "id": "762dd3dc",
   "metadata": {},
   "outputs": [],
   "source": [
    "log_test_predict = clf.predict(X_test)"
   ]
  },
  {
   "cell_type": "markdown",
   "id": "678f5a30",
   "metadata": {},
   "source": [
    "**MODEL EVALUATION OF TESTING DATA**"
   ]
  },
  {
   "cell_type": "code",
   "execution_count": 15,
   "id": "f1dd8606",
   "metadata": {},
   "outputs": [
    {
     "name": "stdout",
     "output_type": "stream",
     "text": [
      "The f1 score for testing data is:  91.1290322580645\n",
      "The accuracy score for testing data is:  85.33333333333334\n",
      "The precision score for testing data is:  96.99570815450643\n",
      "The recall score for testing data is:  85.93155893536122\n",
      "Logistic Regression(testing score) : \n",
      "               precision    recall  f1-score   support\n",
      "\n",
      "           0       0.45      0.81      0.58        37\n",
      "           1       0.97      0.86      0.91       263\n",
      "\n",
      "    accuracy                           0.85       300\n",
      "   macro avg       0.71      0.84      0.74       300\n",
      "weighted avg       0.91      0.85      0.87       300\n",
      "\n"
     ]
    }
   ],
   "source": [
    "print('The f1 score for testing data is: ',f1_score(y_test,log_test_predict)*100)\n",
    "print('The accuracy score for testing data is: ',accuracy_score(y_test,log_test_predict)*100)\n",
    "print('The precision score for testing data is: ',precision_score(y_test,log_test_predict)*100)\n",
    "print('The recall score for testing data is: ',recall_score(y_test,log_test_predict)*100)\n",
    "print(\"Logistic Regression(testing score) : \\n\",classification_report(y_test,log_test_predict))"
   ]
  },
  {
   "cell_type": "code",
   "execution_count": 16,
   "id": "99b6b799",
   "metadata": {},
   "outputs": [],
   "source": [
    "x=PrettyTable()"
   ]
  },
  {
   "cell_type": "code",
   "execution_count": 17,
   "id": "16a1a1f0",
   "metadata": {},
   "outputs": [],
   "source": [
    "x.field_names = [\"Model(Test)\", \"f1_score\",\"accuracy\",\"precision\",\"recall\",]\n",
    "x.add_row([\"Logistic Regression\", \"91.12\",\"85.33\",\"96.99\",\"85.93\"])"
   ]
  },
  {
   "cell_type": "code",
   "execution_count": 18,
   "id": "a3f100f0",
   "metadata": {},
   "outputs": [
    {
     "name": "stdout",
     "output_type": "stream",
     "text": [
      "+---------------------+----------+----------+-----------+--------+\n",
      "|     Model(Test)     | f1_score | accuracy | precision | recall |\n",
      "+---------------------+----------+----------+-----------+--------+\n",
      "| Logistic Regression |  91.12   |  85.33   |   96.99   | 85.93  |\n",
      "+---------------------+----------+----------+-----------+--------+\n"
     ]
    }
   ],
   "source": [
    "print(x)"
   ]
  },
  {
   "cell_type": "markdown",
   "id": "4d84c8c9",
   "metadata": {},
   "source": [
    "####  **OBSERVATIONS:**"
   ]
  },
  {
   "cell_type": "markdown",
   "id": "7789309e",
   "metadata": {},
   "source": [
    "- The testing score has low bias as seen from the above table.\n",
    "- For better understanding both the testing and training scores should be checked before considering a model to be a generalised model."
   ]
  },
  {
   "cell_type": "markdown",
   "id": "477dfeca",
   "metadata": {},
   "source": [
    "# Support Vector Machine - Classifier"
   ]
  },
  {
   "cell_type": "code",
   "execution_count": 19,
   "id": "56f98022",
   "metadata": {},
   "outputs": [],
   "source": [
    "from sklearn.svm import SVC\n",
    "clf1 = SVC()"
   ]
  },
  {
   "cell_type": "code",
   "execution_count": 20,
   "id": "58844a4e",
   "metadata": {},
   "outputs": [
    {
     "data": {
      "text/html": [
       "<style>#sk-container-id-2 {color: black;background-color: white;}#sk-container-id-2 pre{padding: 0;}#sk-container-id-2 div.sk-toggleable {background-color: white;}#sk-container-id-2 label.sk-toggleable__label {cursor: pointer;display: block;width: 100%;margin-bottom: 0;padding: 0.3em;box-sizing: border-box;text-align: center;}#sk-container-id-2 label.sk-toggleable__label-arrow:before {content: \"▸\";float: left;margin-right: 0.25em;color: #696969;}#sk-container-id-2 label.sk-toggleable__label-arrow:hover:before {color: black;}#sk-container-id-2 div.sk-estimator:hover label.sk-toggleable__label-arrow:before {color: black;}#sk-container-id-2 div.sk-toggleable__content {max-height: 0;max-width: 0;overflow: hidden;text-align: left;background-color: #f0f8ff;}#sk-container-id-2 div.sk-toggleable__content pre {margin: 0.2em;color: black;border-radius: 0.25em;background-color: #f0f8ff;}#sk-container-id-2 input.sk-toggleable__control:checked~div.sk-toggleable__content {max-height: 200px;max-width: 100%;overflow: auto;}#sk-container-id-2 input.sk-toggleable__control:checked~label.sk-toggleable__label-arrow:before {content: \"▾\";}#sk-container-id-2 div.sk-estimator input.sk-toggleable__control:checked~label.sk-toggleable__label {background-color: #d4ebff;}#sk-container-id-2 div.sk-label input.sk-toggleable__control:checked~label.sk-toggleable__label {background-color: #d4ebff;}#sk-container-id-2 input.sk-hidden--visually {border: 0;clip: rect(1px 1px 1px 1px);clip: rect(1px, 1px, 1px, 1px);height: 1px;margin: -1px;overflow: hidden;padding: 0;position: absolute;width: 1px;}#sk-container-id-2 div.sk-estimator {font-family: monospace;background-color: #f0f8ff;border: 1px dotted black;border-radius: 0.25em;box-sizing: border-box;margin-bottom: 0.5em;}#sk-container-id-2 div.sk-estimator:hover {background-color: #d4ebff;}#sk-container-id-2 div.sk-parallel-item::after {content: \"\";width: 100%;border-bottom: 1px solid gray;flex-grow: 1;}#sk-container-id-2 div.sk-label:hover label.sk-toggleable__label {background-color: #d4ebff;}#sk-container-id-2 div.sk-serial::before {content: \"\";position: absolute;border-left: 1px solid gray;box-sizing: border-box;top: 0;bottom: 0;left: 50%;z-index: 0;}#sk-container-id-2 div.sk-serial {display: flex;flex-direction: column;align-items: center;background-color: white;padding-right: 0.2em;padding-left: 0.2em;position: relative;}#sk-container-id-2 div.sk-item {position: relative;z-index: 1;}#sk-container-id-2 div.sk-parallel {display: flex;align-items: stretch;justify-content: center;background-color: white;position: relative;}#sk-container-id-2 div.sk-item::before, #sk-container-id-2 div.sk-parallel-item::before {content: \"\";position: absolute;border-left: 1px solid gray;box-sizing: border-box;top: 0;bottom: 0;left: 50%;z-index: -1;}#sk-container-id-2 div.sk-parallel-item {display: flex;flex-direction: column;z-index: 1;position: relative;background-color: white;}#sk-container-id-2 div.sk-parallel-item:first-child::after {align-self: flex-end;width: 50%;}#sk-container-id-2 div.sk-parallel-item:last-child::after {align-self: flex-start;width: 50%;}#sk-container-id-2 div.sk-parallel-item:only-child::after {width: 0;}#sk-container-id-2 div.sk-dashed-wrapped {border: 1px dashed gray;margin: 0 0.4em 0.5em 0.4em;box-sizing: border-box;padding-bottom: 0.4em;background-color: white;}#sk-container-id-2 div.sk-label label {font-family: monospace;font-weight: bold;display: inline-block;line-height: 1.2em;}#sk-container-id-2 div.sk-label-container {text-align: center;}#sk-container-id-2 div.sk-container {/* jupyter's `normalize.less` sets `[hidden] { display: none; }` but bootstrap.min.css set `[hidden] { display: none !important; }` so we also need the `!important` here to be able to override the default hidden behavior on the sphinx rendered scikit-learn.org. See: https://github.com/scikit-learn/scikit-learn/issues/21755 */display: inline-block !important;position: relative;}#sk-container-id-2 div.sk-text-repr-fallback {display: none;}</style><div id=\"sk-container-id-2\" class=\"sk-top-container\"><div class=\"sk-text-repr-fallback\"><pre>SVC()</pre><b>In a Jupyter environment, please rerun this cell to show the HTML representation or trust the notebook. <br />On GitHub, the HTML representation is unable to render, please try loading this page with nbviewer.org.</b></div><div class=\"sk-container\" hidden><div class=\"sk-item\"><div class=\"sk-estimator sk-toggleable\"><input class=\"sk-toggleable__control sk-hidden--visually\" id=\"sk-estimator-id-2\" type=\"checkbox\" checked><label for=\"sk-estimator-id-2\" class=\"sk-toggleable__label sk-toggleable__label-arrow\">SVC</label><div class=\"sk-toggleable__content\"><pre>SVC()</pre></div></div></div></div></div>"
      ],
      "text/plain": [
       "SVC()"
      ]
     },
     "execution_count": 20,
     "metadata": {},
     "output_type": "execute_result"
    }
   ],
   "source": [
    "clf1.fit(X_smote, y_smote) # Training the model"
   ]
  },
  {
   "cell_type": "markdown",
   "id": "36ba7082",
   "metadata": {},
   "source": [
    "**Prediction on test data**"
   ]
  },
  {
   "cell_type": "code",
   "execution_count": 21,
   "id": "c1b4a03a",
   "metadata": {},
   "outputs": [],
   "source": [
    "svm_pred_test1=clf1.predict(X_test)"
   ]
  },
  {
   "cell_type": "markdown",
   "id": "c5e70132",
   "metadata": {},
   "source": [
    "**MODEL EVALUATION OF TESTING DATA**"
   ]
  },
  {
   "cell_type": "code",
   "execution_count": 22,
   "id": "6937c130",
   "metadata": {},
   "outputs": [
    {
     "name": "stdout",
     "output_type": "stream",
     "text": [
      "The f1 score for testing data is:  95.81749049429658\n",
      "The accuracy score for testing data is:  92.66666666666666\n",
      "The precision score for testing data is:  95.81749049429658\n",
      "The recall score for testing data is:  95.81749049429658\n",
      "Support Vector Machine(testing score) : \n",
      "               precision    recall  f1-score   support\n",
      "\n",
      "           0       0.70      0.70      0.70        37\n",
      "           1       0.96      0.96      0.96       263\n",
      "\n",
      "    accuracy                           0.93       300\n",
      "   macro avg       0.83      0.83      0.83       300\n",
      "weighted avg       0.93      0.93      0.93       300\n",
      "\n"
     ]
    }
   ],
   "source": [
    "print('The f1 score for testing data is: ',f1_score(y_test,svm_pred_test1)*100)\n",
    "print('The accuracy score for testing data is: ',accuracy_score(y_test,svm_pred_test1)*100)\n",
    "print('The precision score for testing data is: ',precision_score(y_test,svm_pred_test1)*100)\n",
    "print('The recall score for testing data is: ',recall_score(y_test,svm_pred_test1)*100)\n",
    "print(\"Support Vector Machine(testing score) : \\n\",classification_report(y_test,svm_pred_test1))"
   ]
  },
  {
   "cell_type": "code",
   "execution_count": 23,
   "id": "17011fcb",
   "metadata": {},
   "outputs": [],
   "source": [
    "x=PrettyTable()"
   ]
  },
  {
   "cell_type": "code",
   "execution_count": 24,
   "id": "4db4a7b6",
   "metadata": {},
   "outputs": [],
   "source": [
    "x.field_names = [\"Model(Test)\", \"f1_score\",\"accuracy\",\"precision\",\"recall\"]\n",
    "x.add_row([\"Support Vector Machine(Classifier)\", \"95.81\",\"92.0\",\"95.81\",\"95.81\"])"
   ]
  },
  {
   "cell_type": "code",
   "execution_count": 25,
   "id": "8d887f3c",
   "metadata": {},
   "outputs": [
    {
     "name": "stdout",
     "output_type": "stream",
     "text": [
      "+------------------------------------+----------+----------+-----------+--------+\n",
      "|            Model(Test)             | f1_score | accuracy | precision | recall |\n",
      "+------------------------------------+----------+----------+-----------+--------+\n",
      "| Support Vector Machine(Classifier) |  95.81   |   92.0   |   95.81   | 95.81  |\n",
      "+------------------------------------+----------+----------+-----------+--------+\n"
     ]
    }
   ],
   "source": [
    "print(x)"
   ]
  },
  {
   "cell_type": "markdown",
   "id": "bb0fd099",
   "metadata": {},
   "source": [
    "####  **OBSERVATIONS:**\n",
    "- The testing score has low bias as seen from the above table.\n",
    "- For better understanding both the testing and training scores should be checked before considering a model to be a generalised model.\n",
    "- But still hyperparameter tuning was done to check if the model's testing score could be better."
   ]
  },
  {
   "cell_type": "markdown",
   "id": "e013e046",
   "metadata": {},
   "source": [
    "# Hyperparameter tuning- Support Vector Machine( Classifier)"
   ]
  },
  {
   "cell_type": "code",
   "execution_count": 26,
   "id": "7eecad13",
   "metadata": {},
   "outputs": [
    {
     "name": "stdout",
     "output_type": "stream",
     "text": [
      "[0.93762575 0.95137421 0.95798319]\n",
      "Cross validation Score: 0.9489943849975448\n",
      "Std : 0.0084795437519054\n"
     ]
    }
   ],
   "source": [
    "from sklearn.model_selection import cross_val_score\n",
    "\n",
    "scores = cross_val_score(clf1,X_smote,y_smote,cv=3,scoring='f1') ## instead of svclassifier we can also give models like linear regression an dlogistic regression\n",
    "print(scores)\n",
    "print(\"Cross validation Score:\",scores.mean())\n",
    "print(\"Std :\",scores.std())\n"
   ]
  },
  {
   "cell_type": "code",
   "execution_count": 27,
   "id": "ef673ded",
   "metadata": {},
   "outputs": [
    {
     "name": "stdout",
     "output_type": "stream",
     "text": [
      "Fitting 5 folds for each of 25 candidates, totalling 125 fits\n",
      "[CV 1/5] END ....................C=0.1, gamma=1;, score=0.691 total time=   0.2s\n",
      "[CV 2/5] END ....................C=0.1, gamma=1;, score=0.000 total time=   0.2s\n",
      "[CV 3/5] END ....................C=0.1, gamma=1;, score=0.000 total time=   0.2s\n",
      "[CV 4/5] END ....................C=0.1, gamma=1;, score=0.665 total time=   0.2s\n",
      "[CV 5/5] END ....................C=0.1, gamma=1;, score=0.665 total time=   0.2s\n",
      "[CV 1/5] END ..................C=0.1, gamma=0.1;, score=0.799 total time=   0.2s\n",
      "[CV 2/5] END ..................C=0.1, gamma=0.1;, score=0.885 total time=   0.2s\n",
      "[CV 3/5] END ..................C=0.1, gamma=0.1;, score=0.914 total time=   0.2s\n",
      "[CV 4/5] END ..................C=0.1, gamma=0.1;, score=0.921 total time=   0.2s\n",
      "[CV 5/5] END ..................C=0.1, gamma=0.1;, score=0.912 total time=   0.2s\n",
      "[CV 1/5] END .................C=0.1, gamma=0.01;, score=0.897 total time=   0.2s\n",
      "[CV 2/5] END .................C=0.1, gamma=0.01;, score=0.840 total time=   0.2s\n",
      "[CV 3/5] END .................C=0.1, gamma=0.01;, score=0.882 total time=   0.2s\n",
      "[CV 4/5] END .................C=0.1, gamma=0.01;, score=0.873 total time=   0.2s\n",
      "[CV 5/5] END .................C=0.1, gamma=0.01;, score=0.867 total time=   0.2s\n",
      "[CV 1/5] END ................C=0.1, gamma=0.001;, score=0.776 total time=   0.2s\n",
      "[CV 2/5] END ................C=0.1, gamma=0.001;, score=0.578 total time=   0.2s\n",
      "[CV 3/5] END ................C=0.1, gamma=0.001;, score=0.630 total time=   0.2s\n",
      "[CV 4/5] END ................C=0.1, gamma=0.001;, score=0.786 total time=   0.2s\n",
      "[CV 5/5] END ................C=0.1, gamma=0.001;, score=0.814 total time=   0.2s\n",
      "[CV 1/5] END ...............C=0.1, gamma=0.0001;, score=0.791 total time=   0.2s\n",
      "[CV 2/5] END ...............C=0.1, gamma=0.0001;, score=0.000 total time=   0.2s\n",
      "[CV 3/5] END ...............C=0.1, gamma=0.0001;, score=0.000 total time=   0.2s\n",
      "[CV 4/5] END ...............C=0.1, gamma=0.0001;, score=0.665 total time=   0.2s\n",
      "[CV 5/5] END ...............C=0.1, gamma=0.0001;, score=0.665 total time=   0.2s\n",
      "[CV 1/5] END ......................C=1, gamma=1;, score=0.917 total time=   0.2s\n",
      "[CV 2/5] END ......................C=1, gamma=1;, score=0.909 total time=   0.2s\n",
      "[CV 3/5] END ......................C=1, gamma=1;, score=0.892 total time=   0.2s\n",
      "[CV 4/5] END ......................C=1, gamma=1;, score=0.889 total time=   0.2s\n",
      "[CV 5/5] END ......................C=1, gamma=1;, score=0.881 total time=   0.2s\n",
      "[CV 1/5] END ....................C=1, gamma=0.1;, score=0.964 total time=   0.1s\n",
      "[CV 2/5] END ....................C=1, gamma=0.1;, score=0.969 total time=   0.1s\n",
      "[CV 3/5] END ....................C=1, gamma=0.1;, score=0.997 total time=   0.1s\n",
      "[CV 4/5] END ....................C=1, gamma=0.1;, score=0.993 total time=   0.1s\n",
      "[CV 5/5] END ....................C=1, gamma=0.1;, score=0.993 total time=   0.1s\n",
      "[CV 1/5] END ...................C=1, gamma=0.01;, score=0.917 total time=   0.1s\n",
      "[CV 2/5] END ...................C=1, gamma=0.01;, score=0.891 total time=   0.1s\n",
      "[CV 3/5] END ...................C=1, gamma=0.01;, score=0.925 total time=   0.1s\n",
      "[CV 4/5] END ...................C=1, gamma=0.01;, score=0.941 total time=   0.1s\n",
      "[CV 5/5] END ...................C=1, gamma=0.01;, score=0.911 total time=   0.1s\n",
      "[CV 1/5] END ..................C=1, gamma=0.001;, score=0.884 total time=   0.1s\n",
      "[CV 2/5] END ..................C=1, gamma=0.001;, score=0.827 total time=   0.1s\n",
      "[CV 3/5] END ..................C=1, gamma=0.001;, score=0.875 total time=   0.1s\n",
      "[CV 4/5] END ..................C=1, gamma=0.001;, score=0.882 total time=   0.1s\n",
      "[CV 5/5] END ..................C=1, gamma=0.001;, score=0.855 total time=   0.1s\n",
      "[CV 1/5] END .................C=1, gamma=0.0001;, score=0.791 total time=   0.2s\n",
      "[CV 2/5] END .................C=1, gamma=0.0001;, score=0.643 total time=   0.2s\n",
      "[CV 3/5] END .................C=1, gamma=0.0001;, score=0.708 total time=   0.2s\n",
      "[CV 4/5] END .................C=1, gamma=0.0001;, score=0.824 total time=   0.2s\n",
      "[CV 5/5] END .................C=1, gamma=0.0001;, score=0.820 total time=   0.2s\n",
      "[CV 1/5] END .....................C=10, gamma=1;, score=0.928 total time=   0.2s\n",
      "[CV 2/5] END .....................C=10, gamma=1;, score=0.917 total time=   0.2s\n",
      "[CV 3/5] END .....................C=10, gamma=1;, score=0.903 total time=   0.2s\n",
      "[CV 4/5] END .....................C=10, gamma=1;, score=0.894 total time=   0.2s\n",
      "[CV 5/5] END .....................C=10, gamma=1;, score=0.886 total time=   0.2s\n",
      "[CV 1/5] END ...................C=10, gamma=0.1;, score=0.964 total time=   0.2s\n",
      "[CV 2/5] END ...................C=10, gamma=0.1;, score=0.976 total time=   0.2s\n",
      "[CV 3/5] END ...................C=10, gamma=0.1;, score=0.997 total time=   0.2s\n",
      "[CV 4/5] END ...................C=10, gamma=0.1;, score=0.993 total time=   0.2s\n",
      "[CV 5/5] END ...................C=10, gamma=0.1;, score=0.990 total time=   0.2s\n",
      "[CV 1/5] END ..................C=10, gamma=0.01;, score=0.953 total time=   0.1s\n",
      "[CV 2/5] END ..................C=10, gamma=0.01;, score=0.932 total time=   0.1s\n",
      "[CV 3/5] END ..................C=10, gamma=0.01;, score=0.954 total time=   0.1s\n",
      "[CV 4/5] END ..................C=10, gamma=0.01;, score=0.972 total time=   0.1s\n",
      "[CV 5/5] END ..................C=10, gamma=0.01;, score=0.950 total time=   0.1s\n",
      "[CV 1/5] END .................C=10, gamma=0.001;, score=0.888 total time=   0.1s\n",
      "[CV 2/5] END .................C=10, gamma=0.001;, score=0.854 total time=   0.1s\n",
      "[CV 3/5] END .................C=10, gamma=0.001;, score=0.892 total time=   0.1s\n",
      "[CV 4/5] END .................C=10, gamma=0.001;, score=0.913 total time=   0.1s\n",
      "[CV 5/5] END .................C=10, gamma=0.001;, score=0.890 total time=   0.1s\n",
      "[CV 1/5] END ................C=10, gamma=0.0001;, score=0.883 total time=   0.1s\n",
      "[CV 2/5] END ................C=10, gamma=0.0001;, score=0.824 total time=   0.1s\n",
      "[CV 3/5] END ................C=10, gamma=0.0001;, score=0.873 total time=   0.1s\n",
      "[CV 4/5] END ................C=10, gamma=0.0001;, score=0.875 total time=   0.1s\n",
      "[CV 5/5] END ................C=10, gamma=0.0001;, score=0.855 total time=   0.1s\n",
      "[CV 1/5] END ....................C=100, gamma=1;, score=0.928 total time=   0.2s\n",
      "[CV 2/5] END ....................C=100, gamma=1;, score=0.917 total time=   0.2s\n",
      "[CV 3/5] END ....................C=100, gamma=1;, score=0.903 total time=   0.2s\n",
      "[CV 4/5] END ....................C=100, gamma=1;, score=0.894 total time=   0.2s\n",
      "[CV 5/5] END ....................C=100, gamma=1;, score=0.886 total time=   0.2s\n",
      "[CV 1/5] END ..................C=100, gamma=0.1;, score=0.964 total time=   0.2s\n",
      "[CV 2/5] END ..................C=100, gamma=0.1;, score=0.976 total time=   0.2s\n",
      "[CV 3/5] END ..................C=100, gamma=0.1;, score=0.997 total time=   0.2s\n",
      "[CV 4/5] END ..................C=100, gamma=0.1;, score=0.993 total time=   0.2s\n",
      "[CV 5/5] END ..................C=100, gamma=0.1;, score=0.990 total time=   0.2s\n",
      "[CV 1/5] END .................C=100, gamma=0.01;, score=0.955 total time=   0.1s\n",
      "[CV 2/5] END .................C=100, gamma=0.01;, score=0.932 total time=   0.1s\n",
      "[CV 3/5] END .................C=100, gamma=0.01;, score=0.965 total time=   0.1s\n",
      "[CV 4/5] END .................C=100, gamma=0.01;, score=0.976 total time=   0.1s\n",
      "[CV 5/5] END .................C=100, gamma=0.01;, score=0.969 total time=   0.1s\n",
      "[CV 1/5] END ................C=100, gamma=0.001;, score=0.908 total time=   0.1s\n",
      "[CV 2/5] END ................C=100, gamma=0.001;, score=0.878 total time=   0.1s\n",
      "[CV 3/5] END ................C=100, gamma=0.001;, score=0.936 total time=   0.1s\n",
      "[CV 4/5] END ................C=100, gamma=0.001;, score=0.931 total time=   0.1s\n",
      "[CV 5/5] END ................C=100, gamma=0.001;, score=0.918 total time=   0.1s\n",
      "[CV 1/5] END ...............C=100, gamma=0.0001;, score=0.888 total time=   0.1s\n",
      "[CV 2/5] END ...............C=100, gamma=0.0001;, score=0.849 total time=   0.1s\n",
      "[CV 3/5] END ...............C=100, gamma=0.0001;, score=0.892 total time=   0.1s\n",
      "[CV 4/5] END ...............C=100, gamma=0.0001;, score=0.902 total time=   0.1s\n",
      "[CV 5/5] END ...............C=100, gamma=0.0001;, score=0.868 total time=   0.1s\n",
      "[CV 1/5] END ...................C=1000, gamma=1;, score=0.928 total time=   0.2s\n"
     ]
    },
    {
     "name": "stdout",
     "output_type": "stream",
     "text": [
      "[CV 2/5] END ...................C=1000, gamma=1;, score=0.917 total time=   0.2s\n",
      "[CV 3/5] END ...................C=1000, gamma=1;, score=0.903 total time=   0.2s\n",
      "[CV 4/5] END ...................C=1000, gamma=1;, score=0.894 total time=   0.2s\n",
      "[CV 5/5] END ...................C=1000, gamma=1;, score=0.886 total time=   0.2s\n",
      "[CV 1/5] END .................C=1000, gamma=0.1;, score=0.964 total time=   0.2s\n",
      "[CV 2/5] END .................C=1000, gamma=0.1;, score=0.976 total time=   0.2s\n",
      "[CV 3/5] END .................C=1000, gamma=0.1;, score=0.997 total time=   0.2s\n",
      "[CV 4/5] END .................C=1000, gamma=0.1;, score=0.993 total time=   0.2s\n",
      "[CV 5/5] END .................C=1000, gamma=0.1;, score=0.990 total time=   0.2s\n",
      "[CV 1/5] END ................C=1000, gamma=0.01;, score=0.959 total time=   0.1s\n",
      "[CV 2/5] END ................C=1000, gamma=0.01;, score=0.940 total time=   0.1s\n",
      "[CV 3/5] END ................C=1000, gamma=0.01;, score=0.965 total time=   0.1s\n",
      "[CV 4/5] END ................C=1000, gamma=0.01;, score=0.972 total time=   0.1s\n",
      "[CV 5/5] END ................C=1000, gamma=0.01;, score=0.969 total time=   0.1s\n",
      "[CV 1/5] END ...............C=1000, gamma=0.001;, score=0.956 total time=   0.1s\n",
      "[CV 2/5] END ...............C=1000, gamma=0.001;, score=0.928 total time=   0.1s\n",
      "[CV 3/5] END ...............C=1000, gamma=0.001;, score=0.958 total time=   0.1s\n",
      "[CV 4/5] END ...............C=1000, gamma=0.001;, score=0.972 total time=   0.1s\n",
      "[CV 5/5] END ...............C=1000, gamma=0.001;, score=0.947 total time=   0.1s\n",
      "[CV 1/5] END ..............C=1000, gamma=0.0001;, score=0.891 total time=   0.1s\n",
      "[CV 2/5] END ..............C=1000, gamma=0.0001;, score=0.860 total time=   0.1s\n",
      "[CV 3/5] END ..............C=1000, gamma=0.0001;, score=0.893 total time=   0.1s\n",
      "[CV 4/5] END ..............C=1000, gamma=0.0001;, score=0.922 total time=   0.1s\n",
      "[CV 5/5] END ..............C=1000, gamma=0.0001;, score=0.899 total time=   0.1s\n"
     ]
    },
    {
     "data": {
      "text/html": [
       "<style>#sk-container-id-3 {color: black;background-color: white;}#sk-container-id-3 pre{padding: 0;}#sk-container-id-3 div.sk-toggleable {background-color: white;}#sk-container-id-3 label.sk-toggleable__label {cursor: pointer;display: block;width: 100%;margin-bottom: 0;padding: 0.3em;box-sizing: border-box;text-align: center;}#sk-container-id-3 label.sk-toggleable__label-arrow:before {content: \"▸\";float: left;margin-right: 0.25em;color: #696969;}#sk-container-id-3 label.sk-toggleable__label-arrow:hover:before {color: black;}#sk-container-id-3 div.sk-estimator:hover label.sk-toggleable__label-arrow:before {color: black;}#sk-container-id-3 div.sk-toggleable__content {max-height: 0;max-width: 0;overflow: hidden;text-align: left;background-color: #f0f8ff;}#sk-container-id-3 div.sk-toggleable__content pre {margin: 0.2em;color: black;border-radius: 0.25em;background-color: #f0f8ff;}#sk-container-id-3 input.sk-toggleable__control:checked~div.sk-toggleable__content {max-height: 200px;max-width: 100%;overflow: auto;}#sk-container-id-3 input.sk-toggleable__control:checked~label.sk-toggleable__label-arrow:before {content: \"▾\";}#sk-container-id-3 div.sk-estimator input.sk-toggleable__control:checked~label.sk-toggleable__label {background-color: #d4ebff;}#sk-container-id-3 div.sk-label input.sk-toggleable__control:checked~label.sk-toggleable__label {background-color: #d4ebff;}#sk-container-id-3 input.sk-hidden--visually {border: 0;clip: rect(1px 1px 1px 1px);clip: rect(1px, 1px, 1px, 1px);height: 1px;margin: -1px;overflow: hidden;padding: 0;position: absolute;width: 1px;}#sk-container-id-3 div.sk-estimator {font-family: monospace;background-color: #f0f8ff;border: 1px dotted black;border-radius: 0.25em;box-sizing: border-box;margin-bottom: 0.5em;}#sk-container-id-3 div.sk-estimator:hover {background-color: #d4ebff;}#sk-container-id-3 div.sk-parallel-item::after {content: \"\";width: 100%;border-bottom: 1px solid gray;flex-grow: 1;}#sk-container-id-3 div.sk-label:hover label.sk-toggleable__label {background-color: #d4ebff;}#sk-container-id-3 div.sk-serial::before {content: \"\";position: absolute;border-left: 1px solid gray;box-sizing: border-box;top: 0;bottom: 0;left: 50%;z-index: 0;}#sk-container-id-3 div.sk-serial {display: flex;flex-direction: column;align-items: center;background-color: white;padding-right: 0.2em;padding-left: 0.2em;position: relative;}#sk-container-id-3 div.sk-item {position: relative;z-index: 1;}#sk-container-id-3 div.sk-parallel {display: flex;align-items: stretch;justify-content: center;background-color: white;position: relative;}#sk-container-id-3 div.sk-item::before, #sk-container-id-3 div.sk-parallel-item::before {content: \"\";position: absolute;border-left: 1px solid gray;box-sizing: border-box;top: 0;bottom: 0;left: 50%;z-index: -1;}#sk-container-id-3 div.sk-parallel-item {display: flex;flex-direction: column;z-index: 1;position: relative;background-color: white;}#sk-container-id-3 div.sk-parallel-item:first-child::after {align-self: flex-end;width: 50%;}#sk-container-id-3 div.sk-parallel-item:last-child::after {align-self: flex-start;width: 50%;}#sk-container-id-3 div.sk-parallel-item:only-child::after {width: 0;}#sk-container-id-3 div.sk-dashed-wrapped {border: 1px dashed gray;margin: 0 0.4em 0.5em 0.4em;box-sizing: border-box;padding-bottom: 0.4em;background-color: white;}#sk-container-id-3 div.sk-label label {font-family: monospace;font-weight: bold;display: inline-block;line-height: 1.2em;}#sk-container-id-3 div.sk-label-container {text-align: center;}#sk-container-id-3 div.sk-container {/* jupyter's `normalize.less` sets `[hidden] { display: none; }` but bootstrap.min.css set `[hidden] { display: none !important; }` so we also need the `!important` here to be able to override the default hidden behavior on the sphinx rendered scikit-learn.org. See: https://github.com/scikit-learn/scikit-learn/issues/21755 */display: inline-block !important;position: relative;}#sk-container-id-3 div.sk-text-repr-fallback {display: none;}</style><div id=\"sk-container-id-3\" class=\"sk-top-container\"><div class=\"sk-text-repr-fallback\"><pre>GridSearchCV(cv=5, estimator=SVC(random_state=42),\n",
       "             param_grid={&#x27;C&#x27;: [0.1, 1, 10, 100, 1000],\n",
       "                         &#x27;gamma&#x27;: [1, 0.1, 0.01, 0.001, 0.0001]},\n",
       "             scoring=&#x27;f1&#x27;, verbose=3)</pre><b>In a Jupyter environment, please rerun this cell to show the HTML representation or trust the notebook. <br />On GitHub, the HTML representation is unable to render, please try loading this page with nbviewer.org.</b></div><div class=\"sk-container\" hidden><div class=\"sk-item sk-dashed-wrapped\"><div class=\"sk-label-container\"><div class=\"sk-label sk-toggleable\"><input class=\"sk-toggleable__control sk-hidden--visually\" id=\"sk-estimator-id-3\" type=\"checkbox\" ><label for=\"sk-estimator-id-3\" class=\"sk-toggleable__label sk-toggleable__label-arrow\">GridSearchCV</label><div class=\"sk-toggleable__content\"><pre>GridSearchCV(cv=5, estimator=SVC(random_state=42),\n",
       "             param_grid={&#x27;C&#x27;: [0.1, 1, 10, 100, 1000],\n",
       "                         &#x27;gamma&#x27;: [1, 0.1, 0.01, 0.001, 0.0001]},\n",
       "             scoring=&#x27;f1&#x27;, verbose=3)</pre></div></div></div><div class=\"sk-parallel\"><div class=\"sk-parallel-item\"><div class=\"sk-item\"><div class=\"sk-label-container\"><div class=\"sk-label sk-toggleable\"><input class=\"sk-toggleable__control sk-hidden--visually\" id=\"sk-estimator-id-4\" type=\"checkbox\" ><label for=\"sk-estimator-id-4\" class=\"sk-toggleable__label sk-toggleable__label-arrow\">estimator: SVC</label><div class=\"sk-toggleable__content\"><pre>SVC(random_state=42)</pre></div></div></div><div class=\"sk-serial\"><div class=\"sk-item\"><div class=\"sk-estimator sk-toggleable\"><input class=\"sk-toggleable__control sk-hidden--visually\" id=\"sk-estimator-id-5\" type=\"checkbox\" ><label for=\"sk-estimator-id-5\" class=\"sk-toggleable__label sk-toggleable__label-arrow\">SVC</label><div class=\"sk-toggleable__content\"><pre>SVC(random_state=42)</pre></div></div></div></div></div></div></div></div></div></div>"
      ],
      "text/plain": [
       "GridSearchCV(cv=5, estimator=SVC(random_state=42),\n",
       "             param_grid={'C': [0.1, 1, 10, 100, 1000],\n",
       "                         'gamma': [1, 0.1, 0.01, 0.001, 0.0001]},\n",
       "             scoring='f1', verbose=3)"
      ]
     },
     "execution_count": 27,
     "metadata": {},
     "output_type": "execute_result"
    }
   ],
   "source": [
    "from sklearn.model_selection import GridSearchCV\n",
    "  \n",
    "# defining parameter range\n",
    "param_grid = {'C': [0.1, 1, 10, 100, 1000], \n",
    "              'gamma': [1, 0.1, 0.01, 0.001, 0.0001]} \n",
    "\n",
    "grid = GridSearchCV(SVC(random_state=42), param_grid, verbose =3,scoring='f1',cv=5)\n",
    "  \n",
    "# fitting the model for grid search\n",
    "grid.fit(X_smote, y_smote)"
   ]
  },
  {
   "cell_type": "code",
   "execution_count": 28,
   "id": "91878384",
   "metadata": {},
   "outputs": [
    {
     "name": "stdout",
     "output_type": "stream",
     "text": [
      "{'C': 10, 'gamma': 0.1}\n",
      "SVC(C=10, gamma=0.1, random_state=42)\n"
     ]
    }
   ],
   "source": [
    "print(grid.best_params_)\n",
    "\n",
    "print(grid.best_estimator_)"
   ]
  },
  {
   "cell_type": "code",
   "execution_count": 29,
   "id": "c1b0940d",
   "metadata": {},
   "outputs": [],
   "source": [
    "clf2=SVC(C=10, gamma=0.1, random_state=42)"
   ]
  },
  {
   "cell_type": "code",
   "execution_count": 30,
   "id": "409ed288",
   "metadata": {},
   "outputs": [
    {
     "data": {
      "text/html": [
       "<style>#sk-container-id-4 {color: black;background-color: white;}#sk-container-id-4 pre{padding: 0;}#sk-container-id-4 div.sk-toggleable {background-color: white;}#sk-container-id-4 label.sk-toggleable__label {cursor: pointer;display: block;width: 100%;margin-bottom: 0;padding: 0.3em;box-sizing: border-box;text-align: center;}#sk-container-id-4 label.sk-toggleable__label-arrow:before {content: \"▸\";float: left;margin-right: 0.25em;color: #696969;}#sk-container-id-4 label.sk-toggleable__label-arrow:hover:before {color: black;}#sk-container-id-4 div.sk-estimator:hover label.sk-toggleable__label-arrow:before {color: black;}#sk-container-id-4 div.sk-toggleable__content {max-height: 0;max-width: 0;overflow: hidden;text-align: left;background-color: #f0f8ff;}#sk-container-id-4 div.sk-toggleable__content pre {margin: 0.2em;color: black;border-radius: 0.25em;background-color: #f0f8ff;}#sk-container-id-4 input.sk-toggleable__control:checked~div.sk-toggleable__content {max-height: 200px;max-width: 100%;overflow: auto;}#sk-container-id-4 input.sk-toggleable__control:checked~label.sk-toggleable__label-arrow:before {content: \"▾\";}#sk-container-id-4 div.sk-estimator input.sk-toggleable__control:checked~label.sk-toggleable__label {background-color: #d4ebff;}#sk-container-id-4 div.sk-label input.sk-toggleable__control:checked~label.sk-toggleable__label {background-color: #d4ebff;}#sk-container-id-4 input.sk-hidden--visually {border: 0;clip: rect(1px 1px 1px 1px);clip: rect(1px, 1px, 1px, 1px);height: 1px;margin: -1px;overflow: hidden;padding: 0;position: absolute;width: 1px;}#sk-container-id-4 div.sk-estimator {font-family: monospace;background-color: #f0f8ff;border: 1px dotted black;border-radius: 0.25em;box-sizing: border-box;margin-bottom: 0.5em;}#sk-container-id-4 div.sk-estimator:hover {background-color: #d4ebff;}#sk-container-id-4 div.sk-parallel-item::after {content: \"\";width: 100%;border-bottom: 1px solid gray;flex-grow: 1;}#sk-container-id-4 div.sk-label:hover label.sk-toggleable__label {background-color: #d4ebff;}#sk-container-id-4 div.sk-serial::before {content: \"\";position: absolute;border-left: 1px solid gray;box-sizing: border-box;top: 0;bottom: 0;left: 50%;z-index: 0;}#sk-container-id-4 div.sk-serial {display: flex;flex-direction: column;align-items: center;background-color: white;padding-right: 0.2em;padding-left: 0.2em;position: relative;}#sk-container-id-4 div.sk-item {position: relative;z-index: 1;}#sk-container-id-4 div.sk-parallel {display: flex;align-items: stretch;justify-content: center;background-color: white;position: relative;}#sk-container-id-4 div.sk-item::before, #sk-container-id-4 div.sk-parallel-item::before {content: \"\";position: absolute;border-left: 1px solid gray;box-sizing: border-box;top: 0;bottom: 0;left: 50%;z-index: -1;}#sk-container-id-4 div.sk-parallel-item {display: flex;flex-direction: column;z-index: 1;position: relative;background-color: white;}#sk-container-id-4 div.sk-parallel-item:first-child::after {align-self: flex-end;width: 50%;}#sk-container-id-4 div.sk-parallel-item:last-child::after {align-self: flex-start;width: 50%;}#sk-container-id-4 div.sk-parallel-item:only-child::after {width: 0;}#sk-container-id-4 div.sk-dashed-wrapped {border: 1px dashed gray;margin: 0 0.4em 0.5em 0.4em;box-sizing: border-box;padding-bottom: 0.4em;background-color: white;}#sk-container-id-4 div.sk-label label {font-family: monospace;font-weight: bold;display: inline-block;line-height: 1.2em;}#sk-container-id-4 div.sk-label-container {text-align: center;}#sk-container-id-4 div.sk-container {/* jupyter's `normalize.less` sets `[hidden] { display: none; }` but bootstrap.min.css set `[hidden] { display: none !important; }` so we also need the `!important` here to be able to override the default hidden behavior on the sphinx rendered scikit-learn.org. See: https://github.com/scikit-learn/scikit-learn/issues/21755 */display: inline-block !important;position: relative;}#sk-container-id-4 div.sk-text-repr-fallback {display: none;}</style><div id=\"sk-container-id-4\" class=\"sk-top-container\"><div class=\"sk-text-repr-fallback\"><pre>SVC(C=10, gamma=0.1, random_state=42)</pre><b>In a Jupyter environment, please rerun this cell to show the HTML representation or trust the notebook. <br />On GitHub, the HTML representation is unable to render, please try loading this page with nbviewer.org.</b></div><div class=\"sk-container\" hidden><div class=\"sk-item\"><div class=\"sk-estimator sk-toggleable\"><input class=\"sk-toggleable__control sk-hidden--visually\" id=\"sk-estimator-id-6\" type=\"checkbox\" checked><label for=\"sk-estimator-id-6\" class=\"sk-toggleable__label sk-toggleable__label-arrow\">SVC</label><div class=\"sk-toggleable__content\"><pre>SVC(C=10, gamma=0.1, random_state=42)</pre></div></div></div></div></div>"
      ],
      "text/plain": [
       "SVC(C=10, gamma=0.1, random_state=42)"
      ]
     },
     "execution_count": 30,
     "metadata": {},
     "output_type": "execute_result"
    }
   ],
   "source": [
    "clf2.fit(X_smote, y_smote)"
   ]
  },
  {
   "cell_type": "markdown",
   "id": "7c95f1ea",
   "metadata": {},
   "source": [
    "**Prediction on test data**"
   ]
  },
  {
   "cell_type": "code",
   "execution_count": 31,
   "id": "7c05015a",
   "metadata": {},
   "outputs": [],
   "source": [
    "pred1=clf2.predict(X_test)"
   ]
  },
  {
   "cell_type": "markdown",
   "id": "a27d87dd",
   "metadata": {},
   "source": [
    "**MODEL EVALUATION OF TESTING DATA**"
   ]
  },
  {
   "cell_type": "code",
   "execution_count": 32,
   "id": "94730b28",
   "metadata": {},
   "outputs": [
    {
     "name": "stdout",
     "output_type": "stream",
     "text": [
      "The f1 score for testing data is:  94.22382671480143\n",
      "The accuracy score for testing data is: 89.33333333333333\n",
      "The precision score for testing data is: 89.69072164948454\n",
      "The recall score for testing data is: 99.23954372623575\n",
      "Support Vector Machine(testing score)-TUNED : \n",
      "               precision    recall  f1-score   support\n",
      "\n",
      "           0       0.78      0.19      0.30        37\n",
      "           1       0.90      0.99      0.94       263\n",
      "\n",
      "    accuracy                           0.89       300\n",
      "   macro avg       0.84      0.59      0.62       300\n",
      "weighted avg       0.88      0.89      0.86       300\n",
      "\n"
     ]
    }
   ],
   "source": [
    "print('The f1 score for testing data is: ',f1_score(y_test,pred1)*100)\n",
    "print('The accuracy score for testing data is:',accuracy_score(y_test,pred1)*100)\n",
    "print('The precision score for testing data is:',precision_score(y_test,pred1)*100)\n",
    "print('The recall score for testing data is:',recall_score(y_test,pred1)*100)\n",
    "print(\"Support Vector Machine(testing score)-TUNED : \\n\",classification_report(y_test,pred1))"
   ]
  },
  {
   "cell_type": "code",
   "execution_count": 33,
   "id": "a9b10a2e",
   "metadata": {},
   "outputs": [],
   "source": [
    "x=PrettyTable()"
   ]
  },
  {
   "cell_type": "code",
   "execution_count": 34,
   "id": "0a62bf0e",
   "metadata": {},
   "outputs": [],
   "source": [
    "x.field_names = [\"Model(Test)\", \"f1_score\",\"accuracy\",\"precision\",\"recall\"]\n",
    "x.add_row([\"Support Vector Machine(Classifier)-TUNED\", \"94.22\",\"89.33\",\"89.69\",\"99.23\"])"
   ]
  },
  {
   "cell_type": "code",
   "execution_count": 35,
   "id": "7fae9d8f",
   "metadata": {},
   "outputs": [
    {
     "name": "stdout",
     "output_type": "stream",
     "text": [
      "+------------------------------------------+----------+----------+-----------+--------+\n",
      "|               Model(Test)                | f1_score | accuracy | precision | recall |\n",
      "+------------------------------------------+----------+----------+-----------+--------+\n",
      "| Support Vector Machine(Classifier)-TUNED |  94.22   |  89.33   |   89.69   | 99.23  |\n",
      "+------------------------------------------+----------+----------+-----------+--------+\n"
     ]
    }
   ],
   "source": [
    "print(x)"
   ]
  },
  {
   "cell_type": "markdown",
   "id": "92367af4",
   "metadata": {},
   "source": [
    "####  **OBSERVATIONS:**"
   ]
  },
  {
   "cell_type": "markdown",
   "id": "a01dea93",
   "metadata": {},
   "source": [
    "- After performimg hyperparameter tuning, the model's testing score dropped so we will not consider the tuned scores.\n",
    "- For better understanding both the testing and training scores should be checked before considering a model to be a generalised model."
   ]
  },
  {
   "cell_type": "markdown",
   "id": "88efc48d",
   "metadata": {},
   "source": [
    "# K- Nearest Neighbour(Classifier)"
   ]
  },
  {
   "cell_type": "code",
   "execution_count": 36,
   "id": "4c07f708",
   "metadata": {},
   "outputs": [],
   "source": [
    "from sklearn.neighbors import KNeighborsClassifier"
   ]
  },
  {
   "cell_type": "code",
   "execution_count": 37,
   "id": "a40e2a65",
   "metadata": {},
   "outputs": [],
   "source": [
    "error_rate = []\n",
    "for i in range(1,11):\n",
    "    knn = KNeighborsClassifier(n_neighbors=i)\n",
    "    knn.fit(X_smote,y_smote)\n",
    "    pred_i = knn.predict(X_test)\n",
    "    error_rate.append(np.mean(pred_i != y_test))"
   ]
  },
  {
   "cell_type": "code",
   "execution_count": 38,
   "id": "bd146ec1",
   "metadata": {},
   "outputs": [
    {
     "data": {
      "text/plain": [
       "Text(0, 0.5, 'Error Rate')"
      ]
     },
     "execution_count": 38,
     "metadata": {},
     "output_type": "execute_result"
    },
    {
     "data": {
      "image/png": "[encoded data removed]",
      "text/plain": [
       "<Figure size 720x432 with 1 Axes>"
      ]
     },
     "metadata": {
      "needs_background": "light"
     },
     "output_type": "display_data"
    }
   ],
   "source": [
    "plt.figure(figsize=(10,6))\n",
    "plt.plot(range(1,11),error_rate,color='blue', linestyle='dashed', \n",
    "         marker='o',markerfacecolor='red', markersize=10)\n",
    "plt.title('Error Rate vs. K Value')\n",
    "plt.xlabel('K')\n",
    "plt.ylabel('Error Rate')"
   ]
  },
  {
   "cell_type": "code",
   "execution_count": 39,
   "id": "c66e6ee0",
   "metadata": {},
   "outputs": [
    {
     "data": {
      "text/html": [
       "<style>#sk-container-id-5 {color: black;background-color: white;}#sk-container-id-5 pre{padding: 0;}#sk-container-id-5 div.sk-toggleable {background-color: white;}#sk-container-id-5 label.sk-toggleable__label {cursor: pointer;display: block;width: 100%;margin-bottom: 0;padding: 0.3em;box-sizing: border-box;text-align: center;}#sk-container-id-5 label.sk-toggleable__label-arrow:before {content: \"▸\";float: left;margin-right: 0.25em;color: #696969;}#sk-container-id-5 label.sk-toggleable__label-arrow:hover:before {color: black;}#sk-container-id-5 div.sk-estimator:hover label.sk-toggleable__label-arrow:before {color: black;}#sk-container-id-5 div.sk-toggleable__content {max-height: 0;max-width: 0;overflow: hidden;text-align: left;background-color: #f0f8ff;}#sk-container-id-5 div.sk-toggleable__content pre {margin: 0.2em;color: black;border-radius: 0.25em;background-color: #f0f8ff;}#sk-container-id-5 input.sk-toggleable__control:checked~div.sk-toggleable__content {max-height: 200px;max-width: 100%;overflow: auto;}#sk-container-id-5 input.sk-toggleable__control:checked~label.sk-toggleable__label-arrow:before {content: \"▾\";}#sk-container-id-5 div.sk-estimator input.sk-toggleable__control:checked~label.sk-toggleable__label {background-color: #d4ebff;}#sk-container-id-5 div.sk-label input.sk-toggleable__control:checked~label.sk-toggleable__label {background-color: #d4ebff;}#sk-container-id-5 input.sk-hidden--visually {border: 0;clip: rect(1px 1px 1px 1px);clip: rect(1px, 1px, 1px, 1px);height: 1px;margin: -1px;overflow: hidden;padding: 0;position: absolute;width: 1px;}#sk-container-id-5 div.sk-estimator {font-family: monospace;background-color: #f0f8ff;border: 1px dotted black;border-radius: 0.25em;box-sizing: border-box;margin-bottom: 0.5em;}#sk-container-id-5 div.sk-estimator:hover {background-color: #d4ebff;}#sk-container-id-5 div.sk-parallel-item::after {content: \"\";width: 100%;border-bottom: 1px solid gray;flex-grow: 1;}#sk-container-id-5 div.sk-label:hover label.sk-toggleable__label {background-color: #d4ebff;}#sk-container-id-5 div.sk-serial::before {content: \"\";position: absolute;border-left: 1px solid gray;box-sizing: border-box;top: 0;bottom: 0;left: 50%;z-index: 0;}#sk-container-id-5 div.sk-serial {display: flex;flex-direction: column;align-items: center;background-color: white;padding-right: 0.2em;padding-left: 0.2em;position: relative;}#sk-container-id-5 div.sk-item {position: relative;z-index: 1;}#sk-container-id-5 div.sk-parallel {display: flex;align-items: stretch;justify-content: center;background-color: white;position: relative;}#sk-container-id-5 div.sk-item::before, #sk-container-id-5 div.sk-parallel-item::before {content: \"\";position: absolute;border-left: 1px solid gray;box-sizing: border-box;top: 0;bottom: 0;left: 50%;z-index: -1;}#sk-container-id-5 div.sk-parallel-item {display: flex;flex-direction: column;z-index: 1;position: relative;background-color: white;}#sk-container-id-5 div.sk-parallel-item:first-child::after {align-self: flex-end;width: 50%;}#sk-container-id-5 div.sk-parallel-item:last-child::after {align-self: flex-start;width: 50%;}#sk-container-id-5 div.sk-parallel-item:only-child::after {width: 0;}#sk-container-id-5 div.sk-dashed-wrapped {border: 1px dashed gray;margin: 0 0.4em 0.5em 0.4em;box-sizing: border-box;padding-bottom: 0.4em;background-color: white;}#sk-container-id-5 div.sk-label label {font-family: monospace;font-weight: bold;display: inline-block;line-height: 1.2em;}#sk-container-id-5 div.sk-label-container {text-align: center;}#sk-container-id-5 div.sk-container {/* jupyter's `normalize.less` sets `[hidden] { display: none; }` but bootstrap.min.css set `[hidden] { display: none !important; }` so we also need the `!important` here to be able to override the default hidden behavior on the sphinx rendered scikit-learn.org. See: https://github.com/scikit-learn/scikit-learn/issues/21755 */display: inline-block !important;position: relative;}#sk-container-id-5 div.sk-text-repr-fallback {display: none;}</style><div id=\"sk-container-id-5\" class=\"sk-top-container\"><div class=\"sk-text-repr-fallback\"><pre>KNeighborsClassifier(n_neighbors=9)</pre><b>In a Jupyter environment, please rerun this cell to show the HTML representation or trust the notebook. <br />On GitHub, the HTML representation is unable to render, please try loading this page with nbviewer.org.</b></div><div class=\"sk-container\" hidden><div class=\"sk-item\"><div class=\"sk-estimator sk-toggleable\"><input class=\"sk-toggleable__control sk-hidden--visually\" id=\"sk-estimator-id-7\" type=\"checkbox\" checked><label for=\"sk-estimator-id-7\" class=\"sk-toggleable__label sk-toggleable__label-arrow\">KNeighborsClassifier</label><div class=\"sk-toggleable__content\"><pre>KNeighborsClassifier(n_neighbors=9)</pre></div></div></div></div></div>"
      ],
      "text/plain": [
       "KNeighborsClassifier(n_neighbors=9)"
      ]
     },
     "execution_count": 39,
     "metadata": {},
     "output_type": "execute_result"
    }
   ],
   "source": [
    "knn = KNeighborsClassifier(n_neighbors=9)\n",
    "knn.fit(X_smote, y_smote) # Training the model"
   ]
  },
  {
   "cell_type": "markdown",
   "id": "6253b148",
   "metadata": {},
   "source": [
    "**Prediction on test data**"
   ]
  },
  {
   "cell_type": "code",
   "execution_count": 40,
   "id": "9b0900d0",
   "metadata": {},
   "outputs": [],
   "source": [
    "X_pred_test=knn.predict(X_test)"
   ]
  },
  {
   "cell_type": "markdown",
   "id": "27009f80",
   "metadata": {},
   "source": [
    "**MODEL EVALUATION OF TESTING DATA**"
   ]
  },
  {
   "cell_type": "code",
   "execution_count": 41,
   "id": "65186080",
   "metadata": {},
   "outputs": [
    {
     "name": "stdout",
     "output_type": "stream",
     "text": [
      "The f1 score for testing data is:  71.67070217917676\n",
      "The accuracy score for testing data is:  61.0\n",
      "The precision score for testing data is:  98.66666666666667\n",
      "The recall score for testing data is:  56.27376425855514\n",
      "K-Nearest Neighbour(testing score) : \n",
      "               precision    recall  f1-score   support\n",
      "\n",
      "           0       0.23      0.95      0.37        37\n",
      "           1       0.99      0.56      0.72       263\n",
      "\n",
      "    accuracy                           0.61       300\n",
      "   macro avg       0.61      0.75      0.55       300\n",
      "weighted avg       0.89      0.61      0.67       300\n",
      "\n"
     ]
    }
   ],
   "source": [
    "print('The f1 score for testing data is: ',f1_score(y_test,X_pred_test)*100)\n",
    "print('The accuracy score for testing data is: ',accuracy_score(y_test,X_pred_test)*100)\n",
    "print('The precision score for testing data is: ',precision_score(y_test,X_pred_test)*100)\n",
    "print('The recall score for testing data is: ',recall_score(y_test,X_pred_test)*100)\n",
    "print(\"K-Nearest Neighbour(testing score) : \\n\",classification_report(y_test,X_pred_test))"
   ]
  },
  {
   "cell_type": "code",
   "execution_count": 109,
   "id": "132bf240",
   "metadata": {},
   "outputs": [],
   "source": [
    "x=PrettyTable()"
   ]
  },
  {
   "cell_type": "code",
   "execution_count": 110,
   "id": "9b153b3e",
   "metadata": {},
   "outputs": [],
   "source": [
    "x.field_names = [\"Model(Test)\", \"f1_score\",\"accuracy\",\"precision\",\"recall\"]\n",
    "x.add_row([\"K Nearest Neighbor\", \"71.6\",\"61.0\",\"98.66\",\"56.27\"])"
   ]
  },
  {
   "cell_type": "code",
   "execution_count": 111,
   "id": "ce568c39",
   "metadata": {},
   "outputs": [
    {
     "name": "stdout",
     "output_type": "stream",
     "text": [
      "+--------------------+----------+----------+-----------+--------+\n",
      "|    Model(Test)     | f1_score | accuracy | precision | recall |\n",
      "+--------------------+----------+----------+-----------+--------+\n",
      "| K Nearest Neighbor |   71.6   |   61.0   |   98.66   | 56.27  |\n",
      "+--------------------+----------+----------+-----------+--------+\n"
     ]
    }
   ],
   "source": [
    "print(x)"
   ]
  },
  {
   "cell_type": "markdown",
   "id": "5d2d8dce",
   "metadata": {},
   "source": [
    "####  **OBSERVATIONS:**"
   ]
  },
  {
   "cell_type": "markdown",
   "id": "f8c25a3c",
   "metadata": {},
   "source": [
    "- The testing score has high bias as seen in the table above so the testing scores can't be considered.\n",
    "- For better performance of the model bagging technique is used."
   ]
  },
  {
   "cell_type": "markdown",
   "id": "56932e72",
   "metadata": {},
   "source": [
    "## K-Nearest Neighbour( Bagging) "
   ]
  },
  {
   "cell_type": "code",
   "execution_count": 50,
   "id": "95bcbc0b",
   "metadata": {},
   "outputs": [
    {
     "data": {
      "text/html": [
       "<style>#sk-container-id-7 {color: black;background-color: white;}#sk-container-id-7 pre{padding: 0;}#sk-container-id-7 div.sk-toggleable {background-color: white;}#sk-container-id-7 label.sk-toggleable__label {cursor: pointer;display: block;width: 100%;margin-bottom: 0;padding: 0.3em;box-sizing: border-box;text-align: center;}#sk-container-id-7 label.sk-toggleable__label-arrow:before {content: \"▸\";float: left;margin-right: 0.25em;color: #696969;}#sk-container-id-7 label.sk-toggleable__label-arrow:hover:before {color: black;}#sk-container-id-7 div.sk-estimator:hover label.sk-toggleable__label-arrow:before {color: black;}#sk-container-id-7 div.sk-toggleable__content {max-height: 0;max-width: 0;overflow: hidden;text-align: left;background-color: #f0f8ff;}#sk-container-id-7 div.sk-toggleable__content pre {margin: 0.2em;color: black;border-radius: 0.25em;background-color: #f0f8ff;}#sk-container-id-7 input.sk-toggleable__control:checked~div.sk-toggleable__content {max-height: 200px;max-width: 100%;overflow: auto;}#sk-container-id-7 input.sk-toggleable__control:checked~label.sk-toggleable__label-arrow:before {content: \"▾\";}#sk-container-id-7 div.sk-estimator input.sk-toggleable__control:checked~label.sk-toggleable__label {background-color: #d4ebff;}#sk-container-id-7 div.sk-label input.sk-toggleable__control:checked~label.sk-toggleable__label {background-color: #d4ebff;}#sk-container-id-7 input.sk-hidden--visually {border: 0;clip: rect(1px 1px 1px 1px);clip: rect(1px, 1px, 1px, 1px);height: 1px;margin: -1px;overflow: hidden;padding: 0;position: absolute;width: 1px;}#sk-container-id-7 div.sk-estimator {font-family: monospace;background-color: #f0f8ff;border: 1px dotted black;border-radius: 0.25em;box-sizing: border-box;margin-bottom: 0.5em;}#sk-container-id-7 div.sk-estimator:hover {background-color: #d4ebff;}#sk-container-id-7 div.sk-parallel-item::after {content: \"\";width: 100%;border-bottom: 1px solid gray;flex-grow: 1;}#sk-container-id-7 div.sk-label:hover label.sk-toggleable__label {background-color: #d4ebff;}#sk-container-id-7 div.sk-serial::before {content: \"\";position: absolute;border-left: 1px solid gray;box-sizing: border-box;top: 0;bottom: 0;left: 50%;z-index: 0;}#sk-container-id-7 div.sk-serial {display: flex;flex-direction: column;align-items: center;background-color: white;padding-right: 0.2em;padding-left: 0.2em;position: relative;}#sk-container-id-7 div.sk-item {position: relative;z-index: 1;}#sk-container-id-7 div.sk-parallel {display: flex;align-items: stretch;justify-content: center;background-color: white;position: relative;}#sk-container-id-7 div.sk-item::before, #sk-container-id-7 div.sk-parallel-item::before {content: \"\";position: absolute;border-left: 1px solid gray;box-sizing: border-box;top: 0;bottom: 0;left: 50%;z-index: -1;}#sk-container-id-7 div.sk-parallel-item {display: flex;flex-direction: column;z-index: 1;position: relative;background-color: white;}#sk-container-id-7 div.sk-parallel-item:first-child::after {align-self: flex-end;width: 50%;}#sk-container-id-7 div.sk-parallel-item:last-child::after {align-self: flex-start;width: 50%;}#sk-container-id-7 div.sk-parallel-item:only-child::after {width: 0;}#sk-container-id-7 div.sk-dashed-wrapped {border: 1px dashed gray;margin: 0 0.4em 0.5em 0.4em;box-sizing: border-box;padding-bottom: 0.4em;background-color: white;}#sk-container-id-7 div.sk-label label {font-family: monospace;font-weight: bold;display: inline-block;line-height: 1.2em;}#sk-container-id-7 div.sk-label-container {text-align: center;}#sk-container-id-7 div.sk-container {/* jupyter's `normalize.less` sets `[hidden] { display: none; }` but bootstrap.min.css set `[hidden] { display: none !important; }` so we also need the `!important` here to be able to override the default hidden behavior on the sphinx rendered scikit-learn.org. See: https://github.com/scikit-learn/scikit-learn/issues/21755 */display: inline-block !important;position: relative;}#sk-container-id-7 div.sk-text-repr-fallback {display: none;}</style><div id=\"sk-container-id-7\" class=\"sk-top-container\"><div class=\"sk-text-repr-fallback\"><pre>BaggingClassifier(base_estimator=KNeighborsClassifier(n_neighbors=9), n_jobs=-1,\n",
       "                  random_state=42)</pre><b>In a Jupyter environment, please rerun this cell to show the HTML representation or trust the notebook. <br />On GitHub, the HTML representation is unable to render, please try loading this page with nbviewer.org.</b></div><div class=\"sk-container\" hidden><div class=\"sk-item sk-dashed-wrapped\"><div class=\"sk-label-container\"><div class=\"sk-label sk-toggleable\"><input class=\"sk-toggleable__control sk-hidden--visually\" id=\"sk-estimator-id-11\" type=\"checkbox\" ><label for=\"sk-estimator-id-11\" class=\"sk-toggleable__label sk-toggleable__label-arrow\">BaggingClassifier</label><div class=\"sk-toggleable__content\"><pre>BaggingClassifier(base_estimator=KNeighborsClassifier(n_neighbors=9), n_jobs=-1,\n",
       "                  random_state=42)</pre></div></div></div><div class=\"sk-parallel\"><div class=\"sk-parallel-item\"><div class=\"sk-item\"><div class=\"sk-label-container\"><div class=\"sk-label sk-toggleable\"><input class=\"sk-toggleable__control sk-hidden--visually\" id=\"sk-estimator-id-12\" type=\"checkbox\" ><label for=\"sk-estimator-id-12\" class=\"sk-toggleable__label sk-toggleable__label-arrow\">base_estimator: KNeighborsClassifier</label><div class=\"sk-toggleable__content\"><pre>KNeighborsClassifier(n_neighbors=9)</pre></div></div></div><div class=\"sk-serial\"><div class=\"sk-item\"><div class=\"sk-estimator sk-toggleable\"><input class=\"sk-toggleable__control sk-hidden--visually\" id=\"sk-estimator-id-13\" type=\"checkbox\" ><label for=\"sk-estimator-id-13\" class=\"sk-toggleable__label sk-toggleable__label-arrow\">KNeighborsClassifier</label><div class=\"sk-toggleable__content\"><pre>KNeighborsClassifier(n_neighbors=9)</pre></div></div></div></div></div></div></div></div></div></div>"
      ],
      "text/plain": [
       "BaggingClassifier(base_estimator=KNeighborsClassifier(n_neighbors=9), n_jobs=-1,\n",
       "                  random_state=42)"
      ]
     },
     "execution_count": 50,
     "metadata": {},
     "output_type": "execute_result"
    }
   ],
   "source": [
    "from sklearn.ensemble import BaggingClassifier\n",
    "\n",
    "model_bagg=BaggingClassifier(base_estimator=knn,n_estimators=10,n_jobs=-1,random_state=42)#n_estimator is number of times model repeated \n",
    "\n",
    "model_bagg.fit(X_smote,y_smote)"
   ]
  },
  {
   "cell_type": "markdown",
   "id": "7d2773ce",
   "metadata": {},
   "source": [
    "**Prediction on test data**"
   ]
  },
  {
   "cell_type": "code",
   "execution_count": 51,
   "id": "9368614d",
   "metadata": {},
   "outputs": [],
   "source": [
    "y_hat_bagg=model_bagg.predict(X_test)"
   ]
  },
  {
   "cell_type": "markdown",
   "id": "df680836",
   "metadata": {},
   "source": [
    "**MODEL EVALUATION OF TESTING DATA**"
   ]
  },
  {
   "cell_type": "code",
   "execution_count": 52,
   "id": "6fdce464",
   "metadata": {},
   "outputs": [
    {
     "name": "stdout",
     "output_type": "stream",
     "text": [
      "The f1 score for testing data is:  73.07692307692307\n",
      "The accuracy score for testing data is:  62.66666666666667\n",
      "The precision score for testing data is:  99.34640522875817\n",
      "The recall score for testing data is:  57.79467680608364\n",
      "K-Nearest Neighbour(testing score)-BAGGING : \n",
      "               precision    recall  f1-score   support\n",
      "\n",
      "           0       0.24      0.97      0.39        37\n",
      "           1       0.99      0.58      0.73       263\n",
      "\n",
      "    accuracy                           0.63       300\n",
      "   macro avg       0.62      0.78      0.56       300\n",
      "weighted avg       0.90      0.63      0.69       300\n",
      "\n"
     ]
    }
   ],
   "source": [
    "print('The f1 score for testing data is: ',f1_score(y_test,y_hat_bagg)*100)\n",
    "print('The accuracy score for testing data is: ',accuracy_score(y_test,y_hat_bagg)*100)\n",
    "print('The precision score for testing data is: ',precision_score(y_test,y_hat_bagg)*100)\n",
    "print('The recall score for testing data is: ',recall_score(y_test,y_hat_bagg)*100)\n",
    "print(\"K-Nearest Neighbour(testing score)-BAGGING : \\n\",classification_report(y_test,y_hat_bagg))"
   ]
  },
  {
   "cell_type": "code",
   "execution_count": 53,
   "id": "e325ac3a",
   "metadata": {},
   "outputs": [],
   "source": [
    "x=PrettyTable()"
   ]
  },
  {
   "cell_type": "code",
   "execution_count": 54,
   "id": "4f3da5c5",
   "metadata": {},
   "outputs": [],
   "source": [
    "x.field_names = [\"Model(Test)\", \"f1_score\",\"accuracy\",\"precision\",\"recall\"]\n",
    "x.add_row([\"K-Nearest Neighbour(Bagging)\", \"73.07\",'62.66','99.34','57.79'])"
   ]
  },
  {
   "cell_type": "code",
   "execution_count": 55,
   "id": "926b1bb3",
   "metadata": {},
   "outputs": [
    {
     "name": "stdout",
     "output_type": "stream",
     "text": [
      "+------------------------------+----------+----------+-----------+--------+\n",
      "|         Model(Test)          | f1_score | accuracy | precision | recall |\n",
      "+------------------------------+----------+----------+-----------+--------+\n",
      "| K-Nearest Neighbour(Bagging) |  73.07   |  62.66   |   99.34   | 57.79  |\n",
      "+------------------------------+----------+----------+-----------+--------+\n"
     ]
    }
   ],
   "source": [
    "print(x)"
   ]
  },
  {
   "cell_type": "markdown",
   "id": "37c29d5e",
   "metadata": {},
   "source": [
    "####  **OBSERVATIONS:**"
   ]
  },
  {
   "cell_type": "markdown",
   "id": "b4afd1a0",
   "metadata": {},
   "source": [
    "- The testing score have changed to some extend but the scores still have high bias, so we can't consider this model to be a generalised model.\n",
    "- But for better understanding both the testing and training scores should be checked before considering a model to be a generalised model."
   ]
  },
  {
   "cell_type": "markdown",
   "id": "2892e48a",
   "metadata": {},
   "source": [
    "# Decision Tree:-"
   ]
  },
  {
   "cell_type": "code",
   "execution_count": 56,
   "id": "9e699c8b",
   "metadata": {},
   "outputs": [],
   "source": [
    "from sklearn.tree import DecisionTreeClassifier\n",
    "dtr=DecisionTreeClassifier(random_state=42)"
   ]
  },
  {
   "cell_type": "code",
   "execution_count": 57,
   "id": "2ca2a682",
   "metadata": {},
   "outputs": [
    {
     "data": {
      "text/html": [
       "<style>#sk-container-id-8 {color: black;background-color: white;}#sk-container-id-8 pre{padding: 0;}#sk-container-id-8 div.sk-toggleable {background-color: white;}#sk-container-id-8 label.sk-toggleable__label {cursor: pointer;display: block;width: 100%;margin-bottom: 0;padding: 0.3em;box-sizing: border-box;text-align: center;}#sk-container-id-8 label.sk-toggleable__label-arrow:before {content: \"▸\";float: left;margin-right: 0.25em;color: #696969;}#sk-container-id-8 label.sk-toggleable__label-arrow:hover:before {color: black;}#sk-container-id-8 div.sk-estimator:hover label.sk-toggleable__label-arrow:before {color: black;}#sk-container-id-8 div.sk-toggleable__content {max-height: 0;max-width: 0;overflow: hidden;text-align: left;background-color: #f0f8ff;}#sk-container-id-8 div.sk-toggleable__content pre {margin: 0.2em;color: black;border-radius: 0.25em;background-color: #f0f8ff;}#sk-container-id-8 input.sk-toggleable__control:checked~div.sk-toggleable__content {max-height: 200px;max-width: 100%;overflow: auto;}#sk-container-id-8 input.sk-toggleable__control:checked~label.sk-toggleable__label-arrow:before {content: \"▾\";}#sk-container-id-8 div.sk-estimator input.sk-toggleable__control:checked~label.sk-toggleable__label {background-color: #d4ebff;}#sk-container-id-8 div.sk-label input.sk-toggleable__control:checked~label.sk-toggleable__label {background-color: #d4ebff;}#sk-container-id-8 input.sk-hidden--visually {border: 0;clip: rect(1px 1px 1px 1px);clip: rect(1px, 1px, 1px, 1px);height: 1px;margin: -1px;overflow: hidden;padding: 0;position: absolute;width: 1px;}#sk-container-id-8 div.sk-estimator {font-family: monospace;background-color: #f0f8ff;border: 1px dotted black;border-radius: 0.25em;box-sizing: border-box;margin-bottom: 0.5em;}#sk-container-id-8 div.sk-estimator:hover {background-color: #d4ebff;}#sk-container-id-8 div.sk-parallel-item::after {content: \"\";width: 100%;border-bottom: 1px solid gray;flex-grow: 1;}#sk-container-id-8 div.sk-label:hover label.sk-toggleable__label {background-color: #d4ebff;}#sk-container-id-8 div.sk-serial::before {content: \"\";position: absolute;border-left: 1px solid gray;box-sizing: border-box;top: 0;bottom: 0;left: 50%;z-index: 0;}#sk-container-id-8 div.sk-serial {display: flex;flex-direction: column;align-items: center;background-color: white;padding-right: 0.2em;padding-left: 0.2em;position: relative;}#sk-container-id-8 div.sk-item {position: relative;z-index: 1;}#sk-container-id-8 div.sk-parallel {display: flex;align-items: stretch;justify-content: center;background-color: white;position: relative;}#sk-container-id-8 div.sk-item::before, #sk-container-id-8 div.sk-parallel-item::before {content: \"\";position: absolute;border-left: 1px solid gray;box-sizing: border-box;top: 0;bottom: 0;left: 50%;z-index: -1;}#sk-container-id-8 div.sk-parallel-item {display: flex;flex-direction: column;z-index: 1;position: relative;background-color: white;}#sk-container-id-8 div.sk-parallel-item:first-child::after {align-self: flex-end;width: 50%;}#sk-container-id-8 div.sk-parallel-item:last-child::after {align-self: flex-start;width: 50%;}#sk-container-id-8 div.sk-parallel-item:only-child::after {width: 0;}#sk-container-id-8 div.sk-dashed-wrapped {border: 1px dashed gray;margin: 0 0.4em 0.5em 0.4em;box-sizing: border-box;padding-bottom: 0.4em;background-color: white;}#sk-container-id-8 div.sk-label label {font-family: monospace;font-weight: bold;display: inline-block;line-height: 1.2em;}#sk-container-id-8 div.sk-label-container {text-align: center;}#sk-container-id-8 div.sk-container {/* jupyter's `normalize.less` sets `[hidden] { display: none; }` but bootstrap.min.css set `[hidden] { display: none !important; }` so we also need the `!important` here to be able to override the default hidden behavior on the sphinx rendered scikit-learn.org. See: https://github.com/scikit-learn/scikit-learn/issues/21755 */display: inline-block !important;position: relative;}#sk-container-id-8 div.sk-text-repr-fallback {display: none;}</style><div id=\"sk-container-id-8\" class=\"sk-top-container\"><div class=\"sk-text-repr-fallback\"><pre>DecisionTreeClassifier(random_state=42)</pre><b>In a Jupyter environment, please rerun this cell to show the HTML representation or trust the notebook. <br />On GitHub, the HTML representation is unable to render, please try loading this page with nbviewer.org.</b></div><div class=\"sk-container\" hidden><div class=\"sk-item\"><div class=\"sk-estimator sk-toggleable\"><input class=\"sk-toggleable__control sk-hidden--visually\" id=\"sk-estimator-id-14\" type=\"checkbox\" checked><label for=\"sk-estimator-id-14\" class=\"sk-toggleable__label sk-toggleable__label-arrow\">DecisionTreeClassifier</label><div class=\"sk-toggleable__content\"><pre>DecisionTreeClassifier(random_state=42)</pre></div></div></div></div></div>"
      ],
      "text/plain": [
       "DecisionTreeClassifier(random_state=42)"
      ]
     },
     "execution_count": 57,
     "metadata": {},
     "output_type": "execute_result"
    }
   ],
   "source": [
    "dtr.fit(X_smote,y_smote)"
   ]
  },
  {
   "cell_type": "markdown",
   "id": "0f047794",
   "metadata": {},
   "source": [
    "**Prediction on test data**"
   ]
  },
  {
   "cell_type": "code",
   "execution_count": 58,
   "id": "109d301e",
   "metadata": {},
   "outputs": [],
   "source": [
    "X_pred_test13 = dtr.predict(X_test)"
   ]
  },
  {
   "cell_type": "markdown",
   "id": "ec352a0e",
   "metadata": {},
   "source": [
    "**MODEL EVALUATION OF TESTING DATA**"
   ]
  },
  {
   "cell_type": "code",
   "execution_count": 59,
   "id": "91174992",
   "metadata": {},
   "outputs": [
    {
     "name": "stdout",
     "output_type": "stream",
     "text": [
      "The f1 score for testing data is:  97.50479846449136\n",
      "The accuracy score for testing data is:  95.66666666666667\n",
      "The precision score for testing data is:  98.44961240310077\n",
      "The recall score for testing data is:  96.57794676806084\n",
      "Decision Tree(testing score): \n",
      "               precision    recall  f1-score   support\n",
      "\n",
      "           0       0.79      0.89      0.84        37\n",
      "           1       0.98      0.97      0.98       263\n",
      "\n",
      "    accuracy                           0.96       300\n",
      "   macro avg       0.89      0.93      0.91       300\n",
      "weighted avg       0.96      0.96      0.96       300\n",
      "\n"
     ]
    }
   ],
   "source": [
    "print('The f1 score for testing data is: ',f1_score(y_test,X_pred_test13)*100)\n",
    "print('The accuracy score for testing data is: ',accuracy_score(y_test,X_pred_test13)*100)\n",
    "print('The precision score for testing data is: ',precision_score(y_test,X_pred_test13)*100)\n",
    "print('The recall score for testing data is: ',recall_score(y_test,X_pred_test13)*100)\n",
    "print(\"Decision Tree(testing score): \\n\",classification_report(y_test,X_pred_test13))"
   ]
  },
  {
   "cell_type": "code",
   "execution_count": 60,
   "id": "3d0a74d7",
   "metadata": {},
   "outputs": [],
   "source": [
    "x=PrettyTable()"
   ]
  },
  {
   "cell_type": "code",
   "execution_count": 61,
   "id": "5490453f",
   "metadata": {},
   "outputs": [],
   "source": [
    "x.field_names = [\"Model(Test)\", \"f1_score\",\"accuracy\",\"precision\",\"recall\"]\n",
    "x.add_row([\" Decision Tree\", \"97.50\",'95.66','98.44','96.57'])"
   ]
  },
  {
   "cell_type": "code",
   "execution_count": 62,
   "id": "71028c34",
   "metadata": {},
   "outputs": [
    {
     "name": "stdout",
     "output_type": "stream",
     "text": [
      "+----------------+----------+----------+-----------+--------+\n",
      "|  Model(Test)   | f1_score | accuracy | precision | recall |\n",
      "+----------------+----------+----------+-----------+--------+\n",
      "|  Decision Tree |  97.50   |  95.66   |   98.44   | 96.57  |\n",
      "+----------------+----------+----------+-----------+--------+\n"
     ]
    }
   ],
   "source": [
    "print(x)"
   ]
  },
  {
   "cell_type": "markdown",
   "id": "56042ba2",
   "metadata": {},
   "source": [
    "####  **OBSERVATIONS:**"
   ]
  },
  {
   "cell_type": "markdown",
   "id": "3c311eb8",
   "metadata": {},
   "source": [
    "- The testing score has low bias as shown in the table above.\n",
    "- For better understanding both the testing and training scores should be checked before considering a model to be a generalised model.\n",
    "- For more better performance, hyperparameter tuning was performed."
   ]
  },
  {
   "cell_type": "markdown",
   "id": "7287d35c",
   "metadata": {},
   "source": [
    "# Decision Tree(Hyperparameter tuning):-"
   ]
  },
  {
   "cell_type": "code",
   "execution_count": 63,
   "id": "5a4ff728",
   "metadata": {},
   "outputs": [],
   "source": [
    "params = {\n",
    "    \"criterion\":(\"gini\", \"entropy\"), #quality of split\n",
    "    \"splitter\":(\"best\", \"random\"), # searches the features for a split\n",
    "    \"max_depth\":(list(range(1, 20))), #depth of tree range from 1 to 19\n",
    "    \"min_samples_split\":(list(range(2, 20))),    #the minimum number of samples required to split internal node\n",
    "    \"min_samples_leaf\":list(range(1, 20)),#minimum number of samples required to be at a leaf node,we are passing list which is range from 1 to 19 \n",
    "}"
   ]
  },
  {
   "cell_type": "code",
   "execution_count": 64,
   "id": "56c865aa",
   "metadata": {},
   "outputs": [],
   "source": [
    "tree_clf = DecisionTreeClassifier(random_state=1000)#object creation for decision tree with random state 1000"
   ]
  },
  {
   "cell_type": "code",
   "execution_count": 65,
   "id": "c71cefba",
   "metadata": {},
   "outputs": [],
   "source": [
    "tree_cv = GridSearchCV(tree_clf, params, scoring=\"f1\", n_jobs=-1, verbose=1, cv=3)"
   ]
  },
  {
   "cell_type": "code",
   "execution_count": 66,
   "id": "bbf6552e",
   "metadata": {},
   "outputs": [
    {
     "name": "stdout",
     "output_type": "stream",
     "text": [
      "Fitting 3 folds for each of 25992 candidates, totalling 77976 fits\n"
     ]
    },
    {
     "data": {
      "text/html": [
       "<style>#sk-container-id-9 {color: black;background-color: white;}#sk-container-id-9 pre{padding: 0;}#sk-container-id-9 div.sk-toggleable {background-color: white;}#sk-container-id-9 label.sk-toggleable__label {cursor: pointer;display: block;width: 100%;margin-bottom: 0;padding: 0.3em;box-sizing: border-box;text-align: center;}#sk-container-id-9 label.sk-toggleable__label-arrow:before {content: \"▸\";float: left;margin-right: 0.25em;color: #696969;}#sk-container-id-9 label.sk-toggleable__label-arrow:hover:before {color: black;}#sk-container-id-9 div.sk-estimator:hover label.sk-toggleable__label-arrow:before {color: black;}#sk-container-id-9 div.sk-toggleable__content {max-height: 0;max-width: 0;overflow: hidden;text-align: left;background-color: #f0f8ff;}#sk-container-id-9 div.sk-toggleable__content pre {margin: 0.2em;color: black;border-radius: 0.25em;background-color: #f0f8ff;}#sk-container-id-9 input.sk-toggleable__control:checked~div.sk-toggleable__content {max-height: 200px;max-width: 100%;overflow: auto;}#sk-container-id-9 input.sk-toggleable__control:checked~label.sk-toggleable__label-arrow:before {content: \"▾\";}#sk-container-id-9 div.sk-estimator input.sk-toggleable__control:checked~label.sk-toggleable__label {background-color: #d4ebff;}#sk-container-id-9 div.sk-label input.sk-toggleable__control:checked~label.sk-toggleable__label {background-color: #d4ebff;}#sk-container-id-9 input.sk-hidden--visually {border: 0;clip: rect(1px 1px 1px 1px);clip: rect(1px, 1px, 1px, 1px);height: 1px;margin: -1px;overflow: hidden;padding: 0;position: absolute;width: 1px;}#sk-container-id-9 div.sk-estimator {font-family: monospace;background-color: #f0f8ff;border: 1px dotted black;border-radius: 0.25em;box-sizing: border-box;margin-bottom: 0.5em;}#sk-container-id-9 div.sk-estimator:hover {background-color: #d4ebff;}#sk-container-id-9 div.sk-parallel-item::after {content: \"\";width: 100%;border-bottom: 1px solid gray;flex-grow: 1;}#sk-container-id-9 div.sk-label:hover label.sk-toggleable__label {background-color: #d4ebff;}#sk-container-id-9 div.sk-serial::before {content: \"\";position: absolute;border-left: 1px solid gray;box-sizing: border-box;top: 0;bottom: 0;left: 50%;z-index: 0;}#sk-container-id-9 div.sk-serial {display: flex;flex-direction: column;align-items: center;background-color: white;padding-right: 0.2em;padding-left: 0.2em;position: relative;}#sk-container-id-9 div.sk-item {position: relative;z-index: 1;}#sk-container-id-9 div.sk-parallel {display: flex;align-items: stretch;justify-content: center;background-color: white;position: relative;}#sk-container-id-9 div.sk-item::before, #sk-container-id-9 div.sk-parallel-item::before {content: \"\";position: absolute;border-left: 1px solid gray;box-sizing: border-box;top: 0;bottom: 0;left: 50%;z-index: -1;}#sk-container-id-9 div.sk-parallel-item {display: flex;flex-direction: column;z-index: 1;position: relative;background-color: white;}#sk-container-id-9 div.sk-parallel-item:first-child::after {align-self: flex-end;width: 50%;}#sk-container-id-9 div.sk-parallel-item:last-child::after {align-self: flex-start;width: 50%;}#sk-container-id-9 div.sk-parallel-item:only-child::after {width: 0;}#sk-container-id-9 div.sk-dashed-wrapped {border: 1px dashed gray;margin: 0 0.4em 0.5em 0.4em;box-sizing: border-box;padding-bottom: 0.4em;background-color: white;}#sk-container-id-9 div.sk-label label {font-family: monospace;font-weight: bold;display: inline-block;line-height: 1.2em;}#sk-container-id-9 div.sk-label-container {text-align: center;}#sk-container-id-9 div.sk-container {/* jupyter's `normalize.less` sets `[hidden] { display: none; }` but bootstrap.min.css set `[hidden] { display: none !important; }` so we also need the `!important` here to be able to override the default hidden behavior on the sphinx rendered scikit-learn.org. See: https://github.com/scikit-learn/scikit-learn/issues/21755 */display: inline-block !important;position: relative;}#sk-container-id-9 div.sk-text-repr-fallback {display: none;}</style><div id=\"sk-container-id-9\" class=\"sk-top-container\"><div class=\"sk-text-repr-fallback\"><pre>GridSearchCV(cv=3, estimator=DecisionTreeClassifier(random_state=1000),\n",
       "             n_jobs=-1,\n",
       "             param_grid={&#x27;criterion&#x27;: (&#x27;gini&#x27;, &#x27;entropy&#x27;),\n",
       "                         &#x27;max_depth&#x27;: [1, 2, 3, 4, 5, 6, 7, 8, 9, 10, 11, 12,\n",
       "                                       13, 14, 15, 16, 17, 18, 19],\n",
       "                         &#x27;min_samples_leaf&#x27;: [1, 2, 3, 4, 5, 6, 7, 8, 9, 10, 11,\n",
       "                                              12, 13, 14, 15, 16, 17, 18, 19],\n",
       "                         &#x27;min_samples_split&#x27;: [2, 3, 4, 5, 6, 7, 8, 9, 10, 11,\n",
       "                                               12, 13, 14, 15, 16, 17, 18, 19],\n",
       "                         &#x27;splitter&#x27;: (&#x27;best&#x27;, &#x27;random&#x27;)},\n",
       "             scoring=&#x27;f1&#x27;, verbose=1)</pre><b>In a Jupyter environment, please rerun this cell to show the HTML representation or trust the notebook. <br />On GitHub, the HTML representation is unable to render, please try loading this page with nbviewer.org.</b></div><div class=\"sk-container\" hidden><div class=\"sk-item sk-dashed-wrapped\"><div class=\"sk-label-container\"><div class=\"sk-label sk-toggleable\"><input class=\"sk-toggleable__control sk-hidden--visually\" id=\"sk-estimator-id-15\" type=\"checkbox\" ><label for=\"sk-estimator-id-15\" class=\"sk-toggleable__label sk-toggleable__label-arrow\">GridSearchCV</label><div class=\"sk-toggleable__content\"><pre>GridSearchCV(cv=3, estimator=DecisionTreeClassifier(random_state=1000),\n",
       "             n_jobs=-1,\n",
       "             param_grid={&#x27;criterion&#x27;: (&#x27;gini&#x27;, &#x27;entropy&#x27;),\n",
       "                         &#x27;max_depth&#x27;: [1, 2, 3, 4, 5, 6, 7, 8, 9, 10, 11, 12,\n",
       "                                       13, 14, 15, 16, 17, 18, 19],\n",
       "                         &#x27;min_samples_leaf&#x27;: [1, 2, 3, 4, 5, 6, 7, 8, 9, 10, 11,\n",
       "                                              12, 13, 14, 15, 16, 17, 18, 19],\n",
       "                         &#x27;min_samples_split&#x27;: [2, 3, 4, 5, 6, 7, 8, 9, 10, 11,\n",
       "                                               12, 13, 14, 15, 16, 17, 18, 19],\n",
       "                         &#x27;splitter&#x27;: (&#x27;best&#x27;, &#x27;random&#x27;)},\n",
       "             scoring=&#x27;f1&#x27;, verbose=1)</pre></div></div></div><div class=\"sk-parallel\"><div class=\"sk-parallel-item\"><div class=\"sk-item\"><div class=\"sk-label-container\"><div class=\"sk-label sk-toggleable\"><input class=\"sk-toggleable__control sk-hidden--visually\" id=\"sk-estimator-id-16\" type=\"checkbox\" ><label for=\"sk-estimator-id-16\" class=\"sk-toggleable__label sk-toggleable__label-arrow\">estimator: DecisionTreeClassifier</label><div class=\"sk-toggleable__content\"><pre>DecisionTreeClassifier(random_state=1000)</pre></div></div></div><div class=\"sk-serial\"><div class=\"sk-item\"><div class=\"sk-estimator sk-toggleable\"><input class=\"sk-toggleable__control sk-hidden--visually\" id=\"sk-estimator-id-17\" type=\"checkbox\" ><label for=\"sk-estimator-id-17\" class=\"sk-toggleable__label sk-toggleable__label-arrow\">DecisionTreeClassifier</label><div class=\"sk-toggleable__content\"><pre>DecisionTreeClassifier(random_state=1000)</pre></div></div></div></div></div></div></div></div></div></div>"
      ],
      "text/plain": [
       "GridSearchCV(cv=3, estimator=DecisionTreeClassifier(random_state=1000),\n",
       "             n_jobs=-1,\n",
       "             param_grid={'criterion': ('gini', 'entropy'),\n",
       "                         'max_depth': [1, 2, 3, 4, 5, 6, 7, 8, 9, 10, 11, 12,\n",
       "                                       13, 14, 15, 16, 17, 18, 19],\n",
       "                         'min_samples_leaf': [1, 2, 3, 4, 5, 6, 7, 8, 9, 10, 11,\n",
       "                                              12, 13, 14, 15, 16, 17, 18, 19],\n",
       "                         'min_samples_split': [2, 3, 4, 5, 6, 7, 8, 9, 10, 11,\n",
       "                                               12, 13, 14, 15, 16, 17, 18, 19],\n",
       "                         'splitter': ('best', 'random')},\n",
       "             scoring='f1', verbose=1)"
      ]
     },
     "execution_count": 66,
     "metadata": {},
     "output_type": "execute_result"
    }
   ],
   "source": [
    "tree_cv.fit(X_smote,y_smote)#training data on gridsearch cv"
   ]
  },
  {
   "cell_type": "code",
   "execution_count": 67,
   "id": "5ae3cae3",
   "metadata": {},
   "outputs": [
    {
     "name": "stdout",
     "output_type": "stream",
     "text": [
      "Best paramters: {'criterion': 'entropy', 'max_depth': 5, 'min_samples_leaf': 6, 'min_samples_split': 2, 'splitter': 'best'})\n"
     ]
    }
   ],
   "source": [
    "best_params = tree_cv.best_params_#it will give you best parameters \n",
    "print(f\"Best paramters: {best_params})\")#printing  best parameters"
   ]
  },
  {
   "cell_type": "code",
   "execution_count": 68,
   "id": "50ca011c",
   "metadata": {},
   "outputs": [],
   "source": [
    "dt1=DecisionTreeClassifier(criterion='entropy',max_depth=5,min_samples_leaf=6,min_samples_split=2,splitter='best')#passing best parameter to decision tree"
   ]
  },
  {
   "cell_type": "code",
   "execution_count": 69,
   "id": "d96046ac",
   "metadata": {},
   "outputs": [
    {
     "data": {
      "text/html": [
       "<style>#sk-container-id-10 {color: black;background-color: white;}#sk-container-id-10 pre{padding: 0;}#sk-container-id-10 div.sk-toggleable {background-color: white;}#sk-container-id-10 label.sk-toggleable__label {cursor: pointer;display: block;width: 100%;margin-bottom: 0;padding: 0.3em;box-sizing: border-box;text-align: center;}#sk-container-id-10 label.sk-toggleable__label-arrow:before {content: \"▸\";float: left;margin-right: 0.25em;color: #696969;}#sk-container-id-10 label.sk-toggleable__label-arrow:hover:before {color: black;}#sk-container-id-10 div.sk-estimator:hover label.sk-toggleable__label-arrow:before {color: black;}#sk-container-id-10 div.sk-toggleable__content {max-height: 0;max-width: 0;overflow: hidden;text-align: left;background-color: #f0f8ff;}#sk-container-id-10 div.sk-toggleable__content pre {margin: 0.2em;color: black;border-radius: 0.25em;background-color: #f0f8ff;}#sk-container-id-10 input.sk-toggleable__control:checked~div.sk-toggleable__content {max-height: 200px;max-width: 100%;overflow: auto;}#sk-container-id-10 input.sk-toggleable__control:checked~label.sk-toggleable__label-arrow:before {content: \"▾\";}#sk-container-id-10 div.sk-estimator input.sk-toggleable__control:checked~label.sk-toggleable__label {background-color: #d4ebff;}#sk-container-id-10 div.sk-label input.sk-toggleable__control:checked~label.sk-toggleable__label {background-color: #d4ebff;}#sk-container-id-10 input.sk-hidden--visually {border: 0;clip: rect(1px 1px 1px 1px);clip: rect(1px, 1px, 1px, 1px);height: 1px;margin: -1px;overflow: hidden;padding: 0;position: absolute;width: 1px;}#sk-container-id-10 div.sk-estimator {font-family: monospace;background-color: #f0f8ff;border: 1px dotted black;border-radius: 0.25em;box-sizing: border-box;margin-bottom: 0.5em;}#sk-container-id-10 div.sk-estimator:hover {background-color: #d4ebff;}#sk-container-id-10 div.sk-parallel-item::after {content: \"\";width: 100%;border-bottom: 1px solid gray;flex-grow: 1;}#sk-container-id-10 div.sk-label:hover label.sk-toggleable__label {background-color: #d4ebff;}#sk-container-id-10 div.sk-serial::before {content: \"\";position: absolute;border-left: 1px solid gray;box-sizing: border-box;top: 0;bottom: 0;left: 50%;z-index: 0;}#sk-container-id-10 div.sk-serial {display: flex;flex-direction: column;align-items: center;background-color: white;padding-right: 0.2em;padding-left: 0.2em;position: relative;}#sk-container-id-10 div.sk-item {position: relative;z-index: 1;}#sk-container-id-10 div.sk-parallel {display: flex;align-items: stretch;justify-content: center;background-color: white;position: relative;}#sk-container-id-10 div.sk-item::before, #sk-container-id-10 div.sk-parallel-item::before {content: \"\";position: absolute;border-left: 1px solid gray;box-sizing: border-box;top: 0;bottom: 0;left: 50%;z-index: -1;}#sk-container-id-10 div.sk-parallel-item {display: flex;flex-direction: column;z-index: 1;position: relative;background-color: white;}#sk-container-id-10 div.sk-parallel-item:first-child::after {align-self: flex-end;width: 50%;}#sk-container-id-10 div.sk-parallel-item:last-child::after {align-self: flex-start;width: 50%;}#sk-container-id-10 div.sk-parallel-item:only-child::after {width: 0;}#sk-container-id-10 div.sk-dashed-wrapped {border: 1px dashed gray;margin: 0 0.4em 0.5em 0.4em;box-sizing: border-box;padding-bottom: 0.4em;background-color: white;}#sk-container-id-10 div.sk-label label {font-family: monospace;font-weight: bold;display: inline-block;line-height: 1.2em;}#sk-container-id-10 div.sk-label-container {text-align: center;}#sk-container-id-10 div.sk-container {/* jupyter's `normalize.less` sets `[hidden] { display: none; }` but bootstrap.min.css set `[hidden] { display: none !important; }` so we also need the `!important` here to be able to override the default hidden behavior on the sphinx rendered scikit-learn.org. See: https://github.com/scikit-learn/scikit-learn/issues/21755 */display: inline-block !important;position: relative;}#sk-container-id-10 div.sk-text-repr-fallback {display: none;}</style><div id=\"sk-container-id-10\" class=\"sk-top-container\"><div class=\"sk-text-repr-fallback\"><pre>DecisionTreeClassifier(criterion=&#x27;entropy&#x27;, max_depth=5, min_samples_leaf=6)</pre><b>In a Jupyter environment, please rerun this cell to show the HTML representation or trust the notebook. <br />On GitHub, the HTML representation is unable to render, please try loading this page with nbviewer.org.</b></div><div class=\"sk-container\" hidden><div class=\"sk-item\"><div class=\"sk-estimator sk-toggleable\"><input class=\"sk-toggleable__control sk-hidden--visually\" id=\"sk-estimator-id-18\" type=\"checkbox\" checked><label for=\"sk-estimator-id-18\" class=\"sk-toggleable__label sk-toggleable__label-arrow\">DecisionTreeClassifier</label><div class=\"sk-toggleable__content\"><pre>DecisionTreeClassifier(criterion=&#x27;entropy&#x27;, max_depth=5, min_samples_leaf=6)</pre></div></div></div></div></div>"
      ],
      "text/plain": [
       "DecisionTreeClassifier(criterion='entropy', max_depth=5, min_samples_leaf=6)"
      ]
     },
     "execution_count": 69,
     "metadata": {},
     "output_type": "execute_result"
    }
   ],
   "source": [
    "dt1.fit(X_smote,y_smote)#training model with best parameter"
   ]
  },
  {
   "cell_type": "markdown",
   "id": "fbfb30ac",
   "metadata": {},
   "source": [
    "**Prediction on test data**"
   ]
  },
  {
   "cell_type": "code",
   "execution_count": 70,
   "id": "ac0d735b",
   "metadata": {},
   "outputs": [],
   "source": [
    "X_pred_testdt = dt1.predict(X_test)"
   ]
  },
  {
   "cell_type": "markdown",
   "id": "68691182",
   "metadata": {},
   "source": [
    "**MODEL EVALUATION OF TESTING DATA**"
   ]
  },
  {
   "cell_type": "code",
   "execution_count": 71,
   "id": "4291b440",
   "metadata": {},
   "outputs": [
    {
     "name": "stdout",
     "output_type": "stream",
     "text": [
      "The f1 score for testing data is:  97.88053949903662\n",
      "The accuracy score for testing data is:  96.33333333333334\n",
      "The precision score for testing data is:  99.21875\n",
      "The recall score for testing data is:  96.57794676806084\n",
      "Decision Tree(testing score)-TUNED: \n",
      "               precision    recall  f1-score   support\n",
      "\n",
      "           0       0.80      0.95      0.86        37\n",
      "           1       0.99      0.97      0.98       263\n",
      "\n",
      "    accuracy                           0.96       300\n",
      "   macro avg       0.89      0.96      0.92       300\n",
      "weighted avg       0.97      0.96      0.96       300\n",
      "\n"
     ]
    }
   ],
   "source": [
    "print('The f1 score for testing data is: ',f1_score(y_test,X_pred_testdt)*100)\n",
    "print('The accuracy score for testing data is: ',accuracy_score(y_test,X_pred_testdt)*100)\n",
    "print('The precision score for testing data is: ',precision_score(y_test,X_pred_testdt)*100)\n",
    "print('The recall score for testing data is: ',recall_score(y_test,X_pred_testdt)*100)\n",
    "print(\"Decision Tree(testing score)-TUNED: \\n\",classification_report(y_test,X_pred_testdt))"
   ]
  },
  {
   "cell_type": "code",
   "execution_count": 72,
   "id": "039500af",
   "metadata": {},
   "outputs": [],
   "source": [
    "x=PrettyTable()"
   ]
  },
  {
   "cell_type": "code",
   "execution_count": 73,
   "id": "69e99fe7",
   "metadata": {},
   "outputs": [],
   "source": [
    "x.field_names = [\"Model(Test)\", \"f1_score\",\"accuracy\",\"precision\",\"recall\"]\n",
    "x.add_row([\" Decision Tree(tuned)\", \"97.88\",'96.33','99.21','96.57'])"
   ]
  },
  {
   "cell_type": "code",
   "execution_count": 74,
   "id": "ab1d0900",
   "metadata": {},
   "outputs": [
    {
     "name": "stdout",
     "output_type": "stream",
     "text": [
      "+-----------------------+----------+----------+-----------+--------+\n",
      "|      Model(Test)      | f1_score | accuracy | precision | recall |\n",
      "+-----------------------+----------+----------+-----------+--------+\n",
      "|  Decision Tree(tuned) |  97.88   |  96.33   |   99.21   | 96.57  |\n",
      "+-----------------------+----------+----------+-----------+--------+\n"
     ]
    }
   ],
   "source": [
    "print(x)"
   ]
  },
  {
   "cell_type": "markdown",
   "id": "e3253361",
   "metadata": {},
   "source": [
    "####  **OBSERVATIONS:**"
   ]
  },
  {
   "cell_type": "markdown",
   "id": "99420f6f",
   "metadata": {},
   "source": [
    "- The testing score has low bias as shown in the table above.\n",
    "- For better understanding both the testing and training scores should be checked before considering a model to be a generalised model.\n",
    "- The tuned model doesn't have any significant difference with the untuned model."
   ]
  },
  {
   "cell_type": "markdown",
   "id": "d5a7c286",
   "metadata": {},
   "source": [
    "# Random Forest:-"
   ]
  },
  {
   "cell_type": "code",
   "execution_count": 75,
   "id": "1dbe7164",
   "metadata": {},
   "outputs": [],
   "source": [
    "from sklearn.ensemble import RandomForestClassifier\n",
    "rf_clf = RandomForestClassifier(n_estimators=100)"
   ]
  },
  {
   "cell_type": "code",
   "execution_count": 76,
   "id": "8e8deaa7",
   "metadata": {},
   "outputs": [
    {
     "data": {
      "text/html": [
       "<style>#sk-container-id-11 {color: black;background-color: white;}#sk-container-id-11 pre{padding: 0;}#sk-container-id-11 div.sk-toggleable {background-color: white;}#sk-container-id-11 label.sk-toggleable__label {cursor: pointer;display: block;width: 100%;margin-bottom: 0;padding: 0.3em;box-sizing: border-box;text-align: center;}#sk-container-id-11 label.sk-toggleable__label-arrow:before {content: \"▸\";float: left;margin-right: 0.25em;color: #696969;}#sk-container-id-11 label.sk-toggleable__label-arrow:hover:before {color: black;}#sk-container-id-11 div.sk-estimator:hover label.sk-toggleable__label-arrow:before {color: black;}#sk-container-id-11 div.sk-toggleable__content {max-height: 0;max-width: 0;overflow: hidden;text-align: left;background-color: #f0f8ff;}#sk-container-id-11 div.sk-toggleable__content pre {margin: 0.2em;color: black;border-radius: 0.25em;background-color: #f0f8ff;}#sk-container-id-11 input.sk-toggleable__control:checked~div.sk-toggleable__content {max-height: 200px;max-width: 100%;overflow: auto;}#sk-container-id-11 input.sk-toggleable__control:checked~label.sk-toggleable__label-arrow:before {content: \"▾\";}#sk-container-id-11 div.sk-estimator input.sk-toggleable__control:checked~label.sk-toggleable__label {background-color: #d4ebff;}#sk-container-id-11 div.sk-label input.sk-toggleable__control:checked~label.sk-toggleable__label {background-color: #d4ebff;}#sk-container-id-11 input.sk-hidden--visually {border: 0;clip: rect(1px 1px 1px 1px);clip: rect(1px, 1px, 1px, 1px);height: 1px;margin: -1px;overflow: hidden;padding: 0;position: absolute;width: 1px;}#sk-container-id-11 div.sk-estimator {font-family: monospace;background-color: #f0f8ff;border: 1px dotted black;border-radius: 0.25em;box-sizing: border-box;margin-bottom: 0.5em;}#sk-container-id-11 div.sk-estimator:hover {background-color: #d4ebff;}#sk-container-id-11 div.sk-parallel-item::after {content: \"\";width: 100%;border-bottom: 1px solid gray;flex-grow: 1;}#sk-container-id-11 div.sk-label:hover label.sk-toggleable__label {background-color: #d4ebff;}#sk-container-id-11 div.sk-serial::before {content: \"\";position: absolute;border-left: 1px solid gray;box-sizing: border-box;top: 0;bottom: 0;left: 50%;z-index: 0;}#sk-container-id-11 div.sk-serial {display: flex;flex-direction: column;align-items: center;background-color: white;padding-right: 0.2em;padding-left: 0.2em;position: relative;}#sk-container-id-11 div.sk-item {position: relative;z-index: 1;}#sk-container-id-11 div.sk-parallel {display: flex;align-items: stretch;justify-content: center;background-color: white;position: relative;}#sk-container-id-11 div.sk-item::before, #sk-container-id-11 div.sk-parallel-item::before {content: \"\";position: absolute;border-left: 1px solid gray;box-sizing: border-box;top: 0;bottom: 0;left: 50%;z-index: -1;}#sk-container-id-11 div.sk-parallel-item {display: flex;flex-direction: column;z-index: 1;position: relative;background-color: white;}#sk-container-id-11 div.sk-parallel-item:first-child::after {align-self: flex-end;width: 50%;}#sk-container-id-11 div.sk-parallel-item:last-child::after {align-self: flex-start;width: 50%;}#sk-container-id-11 div.sk-parallel-item:only-child::after {width: 0;}#sk-container-id-11 div.sk-dashed-wrapped {border: 1px dashed gray;margin: 0 0.4em 0.5em 0.4em;box-sizing: border-box;padding-bottom: 0.4em;background-color: white;}#sk-container-id-11 div.sk-label label {font-family: monospace;font-weight: bold;display: inline-block;line-height: 1.2em;}#sk-container-id-11 div.sk-label-container {text-align: center;}#sk-container-id-11 div.sk-container {/* jupyter's `normalize.less` sets `[hidden] { display: none; }` but bootstrap.min.css set `[hidden] { display: none !important; }` so we also need the `!important` here to be able to override the default hidden behavior on the sphinx rendered scikit-learn.org. See: https://github.com/scikit-learn/scikit-learn/issues/21755 */display: inline-block !important;position: relative;}#sk-container-id-11 div.sk-text-repr-fallback {display: none;}</style><div id=\"sk-container-id-11\" class=\"sk-top-container\"><div class=\"sk-text-repr-fallback\"><pre>RandomForestClassifier()</pre><b>In a Jupyter environment, please rerun this cell to show the HTML representation or trust the notebook. <br />On GitHub, the HTML representation is unable to render, please try loading this page with nbviewer.org.</b></div><div class=\"sk-container\" hidden><div class=\"sk-item\"><div class=\"sk-estimator sk-toggleable\"><input class=\"sk-toggleable__control sk-hidden--visually\" id=\"sk-estimator-id-19\" type=\"checkbox\" checked><label for=\"sk-estimator-id-19\" class=\"sk-toggleable__label sk-toggleable__label-arrow\">RandomForestClassifier</label><div class=\"sk-toggleable__content\"><pre>RandomForestClassifier()</pre></div></div></div></div></div>"
      ],
      "text/plain": [
       "RandomForestClassifier()"
      ]
     },
     "execution_count": 76,
     "metadata": {},
     "output_type": "execute_result"
    }
   ],
   "source": [
    "rf_clf.fit(X_smote,y_smote)"
   ]
  },
  {
   "cell_type": "markdown",
   "id": "0c406b2e",
   "metadata": {},
   "source": [
    "**Prediction on test data**"
   ]
  },
  {
   "cell_type": "code",
   "execution_count": 77,
   "id": "5a5f0240",
   "metadata": {},
   "outputs": [],
   "source": [
    "X_pred_test15 = rf_clf.predict(X_test)"
   ]
  },
  {
   "cell_type": "markdown",
   "id": "0d1e8479",
   "metadata": {},
   "source": [
    "**MODEL EVALUATION OF TESTING DATA**"
   ]
  },
  {
   "cell_type": "code",
   "execution_count": 78,
   "id": "957e2345",
   "metadata": {},
   "outputs": [
    {
     "name": "stdout",
     "output_type": "stream",
     "text": [
      "The f1 score for testing data is:  98.28571428571429\n",
      "The accuracy score for testing data is:  97.0\n",
      "The precision score for testing data is:  98.47328244274809\n",
      "The recall score for testing data is:  98.09885931558935\n",
      "Random Forest(testing score): \n",
      "               precision    recall  f1-score   support\n",
      "\n",
      "           0       0.87      0.89      0.88        37\n",
      "           1       0.98      0.98      0.98       263\n",
      "\n",
      "    accuracy                           0.97       300\n",
      "   macro avg       0.93      0.94      0.93       300\n",
      "weighted avg       0.97      0.97      0.97       300\n",
      "\n"
     ]
    }
   ],
   "source": [
    "print('The f1 score for testing data is: ',f1_score(y_test,X_pred_test15)*100)\n",
    "print('The accuracy score for testing data is: ',accuracy_score(y_test,X_pred_test15)*100)\n",
    "print('The precision score for testing data is: ',precision_score(y_test,X_pred_test15)*100)\n",
    "print('The recall score for testing data is: ',recall_score(y_test,X_pred_test15)*100)\n",
    "print(\"Random Forest(testing score): \\n\",classification_report(y_test,X_pred_test15))"
   ]
  },
  {
   "cell_type": "code",
   "execution_count": 79,
   "id": "36f37502",
   "metadata": {},
   "outputs": [],
   "source": [
    "x=PrettyTable()"
   ]
  },
  {
   "cell_type": "code",
   "execution_count": 80,
   "id": "485a1cd1",
   "metadata": {},
   "outputs": [],
   "source": [
    "x.field_names = [\"Model(Test)\", \"f1_score\",\"accuracy\",\"precision\",\"recall\"]\n",
    "x.add_row([\"Random Forest\", \"98.28\",'97.0','98.47','98.09'])"
   ]
  },
  {
   "cell_type": "code",
   "execution_count": 81,
   "id": "d34216ac",
   "metadata": {},
   "outputs": [
    {
     "name": "stdout",
     "output_type": "stream",
     "text": [
      "+---------------+----------+----------+-----------+--------+\n",
      "|  Model(Test)  | f1_score | accuracy | precision | recall |\n",
      "+---------------+----------+----------+-----------+--------+\n",
      "| Random Forest |  98.28   |   97.0   |   98.47   | 98.09  |\n",
      "+---------------+----------+----------+-----------+--------+\n"
     ]
    }
   ],
   "source": [
    "print(x)"
   ]
  },
  {
   "cell_type": "markdown",
   "id": "a5fd92ea",
   "metadata": {},
   "source": [
    "####  **OBSERVATIONS:**"
   ]
  },
  {
   "cell_type": "markdown",
   "id": "35990d44",
   "metadata": {},
   "source": [
    "- The testing score has low bias as shown in the table above.\n",
    "- For better understanding both the testing and training scores should be checked before considering a model to be a generalised model.\n"
   ]
  },
  {
   "cell_type": "markdown",
   "id": "39c53f05",
   "metadata": {},
   "source": [
    "# Hyperparameter tuning( Random Forest):-"
   ]
  },
  {
   "cell_type": "code",
   "execution_count": 82,
   "id": "ba9dcdda",
   "metadata": {},
   "outputs": [],
   "source": [
    "from sklearn.model_selection import RandomizedSearchCV\n",
    "\n",
    "n_estimators = [int(x) for x in np.linspace(start=200, stop=2000, num=10)]       #Number of decision trees\n",
    "max_features = ['log2', 'sqrt']                                  #maximum number of features allowed to try in individual tree\n",
    "max_depth = [int(x) for x in np.linspace(10, 110, num=11)]      #List Comprehension-using for loop in list\n",
    "min_samples_split = (list(range(2, 20)))#minimum number of samples required to split an internal node\n",
    "min_samples_leaf = (list(range(2, 20)))#minimum number of samples required to be at a leaf node."
   ]
  },
  {
   "cell_type": "code",
   "execution_count": 83,
   "id": "242209f9",
   "metadata": {},
   "outputs": [],
   "source": [
    "#dictionary for hyperparameters\n",
    "random_grid = {'n_estimators': n_estimators, 'max_features': max_features,\n",
    "               'max_depth': max_depth, 'min_samples_split': min_samples_split,\n",
    "               'min_samples_leaf': min_samples_leaf}"
   ]
  },
  {
   "cell_type": "code",
   "execution_count": 84,
   "id": "b8006327",
   "metadata": {},
   "outputs": [],
   "source": [
    "#MODEL Creation\n",
    "rf_clf1 = RandomForestClassifier(random_state=42)#model"
   ]
  },
  {
   "cell_type": "code",
   "execution_count": 85,
   "id": "7cc957c1",
   "metadata": {},
   "outputs": [],
   "source": [
    "rf_cv = RandomizedSearchCV(estimator=rf_clf1, scoring='f1',param_distributions=random_grid, n_iter=100, cv=3, \n",
    "                               verbose=2, random_state=42, n_jobs=-1)"
   ]
  },
  {
   "cell_type": "code",
   "execution_count": 86,
   "id": "454e4b90",
   "metadata": {},
   "outputs": [
    {
     "name": "stdout",
     "output_type": "stream",
     "text": [
      "Fitting 3 folds for each of 100 candidates, totalling 300 fits\n"
     ]
    },
    {
     "data": {
      "text/html": [
       "<style>#sk-container-id-12 {color: black;background-color: white;}#sk-container-id-12 pre{padding: 0;}#sk-container-id-12 div.sk-toggleable {background-color: white;}#sk-container-id-12 label.sk-toggleable__label {cursor: pointer;display: block;width: 100%;margin-bottom: 0;padding: 0.3em;box-sizing: border-box;text-align: center;}#sk-container-id-12 label.sk-toggleable__label-arrow:before {content: \"▸\";float: left;margin-right: 0.25em;color: #696969;}#sk-container-id-12 label.sk-toggleable__label-arrow:hover:before {color: black;}#sk-container-id-12 div.sk-estimator:hover label.sk-toggleable__label-arrow:before {color: black;}#sk-container-id-12 div.sk-toggleable__content {max-height: 0;max-width: 0;overflow: hidden;text-align: left;background-color: #f0f8ff;}#sk-container-id-12 div.sk-toggleable__content pre {margin: 0.2em;color: black;border-radius: 0.25em;background-color: #f0f8ff;}#sk-container-id-12 input.sk-toggleable__control:checked~div.sk-toggleable__content {max-height: 200px;max-width: 100%;overflow: auto;}#sk-container-id-12 input.sk-toggleable__control:checked~label.sk-toggleable__label-arrow:before {content: \"▾\";}#sk-container-id-12 div.sk-estimator input.sk-toggleable__control:checked~label.sk-toggleable__label {background-color: #d4ebff;}#sk-container-id-12 div.sk-label input.sk-toggleable__control:checked~label.sk-toggleable__label {background-color: #d4ebff;}#sk-container-id-12 input.sk-hidden--visually {border: 0;clip: rect(1px 1px 1px 1px);clip: rect(1px, 1px, 1px, 1px);height: 1px;margin: -1px;overflow: hidden;padding: 0;position: absolute;width: 1px;}#sk-container-id-12 div.sk-estimator {font-family: monospace;background-color: #f0f8ff;border: 1px dotted black;border-radius: 0.25em;box-sizing: border-box;margin-bottom: 0.5em;}#sk-container-id-12 div.sk-estimator:hover {background-color: #d4ebff;}#sk-container-id-12 div.sk-parallel-item::after {content: \"\";width: 100%;border-bottom: 1px solid gray;flex-grow: 1;}#sk-container-id-12 div.sk-label:hover label.sk-toggleable__label {background-color: #d4ebff;}#sk-container-id-12 div.sk-serial::before {content: \"\";position: absolute;border-left: 1px solid gray;box-sizing: border-box;top: 0;bottom: 0;left: 50%;z-index: 0;}#sk-container-id-12 div.sk-serial {display: flex;flex-direction: column;align-items: center;background-color: white;padding-right: 0.2em;padding-left: 0.2em;position: relative;}#sk-container-id-12 div.sk-item {position: relative;z-index: 1;}#sk-container-id-12 div.sk-parallel {display: flex;align-items: stretch;justify-content: center;background-color: white;position: relative;}#sk-container-id-12 div.sk-item::before, #sk-container-id-12 div.sk-parallel-item::before {content: \"\";position: absolute;border-left: 1px solid gray;box-sizing: border-box;top: 0;bottom: 0;left: 50%;z-index: -1;}#sk-container-id-12 div.sk-parallel-item {display: flex;flex-direction: column;z-index: 1;position: relative;background-color: white;}#sk-container-id-12 div.sk-parallel-item:first-child::after {align-self: flex-end;width: 50%;}#sk-container-id-12 div.sk-parallel-item:last-child::after {align-self: flex-start;width: 50%;}#sk-container-id-12 div.sk-parallel-item:only-child::after {width: 0;}#sk-container-id-12 div.sk-dashed-wrapped {border: 1px dashed gray;margin: 0 0.4em 0.5em 0.4em;box-sizing: border-box;padding-bottom: 0.4em;background-color: white;}#sk-container-id-12 div.sk-label label {font-family: monospace;font-weight: bold;display: inline-block;line-height: 1.2em;}#sk-container-id-12 div.sk-label-container {text-align: center;}#sk-container-id-12 div.sk-container {/* jupyter's `normalize.less` sets `[hidden] { display: none; }` but bootstrap.min.css set `[hidden] { display: none !important; }` so we also need the `!important` here to be able to override the default hidden behavior on the sphinx rendered scikit-learn.org. See: https://github.com/scikit-learn/scikit-learn/issues/21755 */display: inline-block !important;position: relative;}#sk-container-id-12 div.sk-text-repr-fallback {display: none;}</style><div id=\"sk-container-id-12\" class=\"sk-top-container\"><div class=\"sk-text-repr-fallback\"><pre>RandomizedSearchCV(cv=3, estimator=RandomForestClassifier(random_state=42),\n",
       "                   n_iter=100, n_jobs=-1,\n",
       "                   param_distributions={&#x27;max_depth&#x27;: [10, 20, 30, 40, 50, 60,\n",
       "                                                      70, 80, 90, 100, 110],\n",
       "                                        &#x27;max_features&#x27;: [&#x27;log2&#x27;, &#x27;sqrt&#x27;],\n",
       "                                        &#x27;min_samples_leaf&#x27;: [2, 3, 4, 5, 6, 7,\n",
       "                                                             8, 9, 10, 11, 12,\n",
       "                                                             13, 14, 15, 16, 17,\n",
       "                                                             18, 19],\n",
       "                                        &#x27;min_samples_split&#x27;: [2, 3, 4, 5, 6, 7,\n",
       "                                                              8, 9, 10, 11, 12,\n",
       "                                                              13, 14, 15, 16,\n",
       "                                                              17, 18, 19],\n",
       "                                        &#x27;n_estimators&#x27;: [200, 400, 600, 800,\n",
       "                                                         1000, 1200, 1400, 1600,\n",
       "                                                         1800, 2000]},\n",
       "                   random_state=42, scoring=&#x27;f1&#x27;, verbose=2)</pre><b>In a Jupyter environment, please rerun this cell to show the HTML representation or trust the notebook. <br />On GitHub, the HTML representation is unable to render, please try loading this page with nbviewer.org.</b></div><div class=\"sk-container\" hidden><div class=\"sk-item sk-dashed-wrapped\"><div class=\"sk-label-container\"><div class=\"sk-label sk-toggleable\"><input class=\"sk-toggleable__control sk-hidden--visually\" id=\"sk-estimator-id-20\" type=\"checkbox\" ><label for=\"sk-estimator-id-20\" class=\"sk-toggleable__label sk-toggleable__label-arrow\">RandomizedSearchCV</label><div class=\"sk-toggleable__content\"><pre>RandomizedSearchCV(cv=3, estimator=RandomForestClassifier(random_state=42),\n",
       "                   n_iter=100, n_jobs=-1,\n",
       "                   param_distributions={&#x27;max_depth&#x27;: [10, 20, 30, 40, 50, 60,\n",
       "                                                      70, 80, 90, 100, 110],\n",
       "                                        &#x27;max_features&#x27;: [&#x27;log2&#x27;, &#x27;sqrt&#x27;],\n",
       "                                        &#x27;min_samples_leaf&#x27;: [2, 3, 4, 5, 6, 7,\n",
       "                                                             8, 9, 10, 11, 12,\n",
       "                                                             13, 14, 15, 16, 17,\n",
       "                                                             18, 19],\n",
       "                                        &#x27;min_samples_split&#x27;: [2, 3, 4, 5, 6, 7,\n",
       "                                                              8, 9, 10, 11, 12,\n",
       "                                                              13, 14, 15, 16,\n",
       "                                                              17, 18, 19],\n",
       "                                        &#x27;n_estimators&#x27;: [200, 400, 600, 800,\n",
       "                                                         1000, 1200, 1400, 1600,\n",
       "                                                         1800, 2000]},\n",
       "                   random_state=42, scoring=&#x27;f1&#x27;, verbose=2)</pre></div></div></div><div class=\"sk-parallel\"><div class=\"sk-parallel-item\"><div class=\"sk-item\"><div class=\"sk-label-container\"><div class=\"sk-label sk-toggleable\"><input class=\"sk-toggleable__control sk-hidden--visually\" id=\"sk-estimator-id-21\" type=\"checkbox\" ><label for=\"sk-estimator-id-21\" class=\"sk-toggleable__label sk-toggleable__label-arrow\">estimator: RandomForestClassifier</label><div class=\"sk-toggleable__content\"><pre>RandomForestClassifier(random_state=42)</pre></div></div></div><div class=\"sk-serial\"><div class=\"sk-item\"><div class=\"sk-estimator sk-toggleable\"><input class=\"sk-toggleable__control sk-hidden--visually\" id=\"sk-estimator-id-22\" type=\"checkbox\" ><label for=\"sk-estimator-id-22\" class=\"sk-toggleable__label sk-toggleable__label-arrow\">RandomForestClassifier</label><div class=\"sk-toggleable__content\"><pre>RandomForestClassifier(random_state=42)</pre></div></div></div></div></div></div></div></div></div></div>"
      ],
      "text/plain": [
       "RandomizedSearchCV(cv=3, estimator=RandomForestClassifier(random_state=42),\n",
       "                   n_iter=100, n_jobs=-1,\n",
       "                   param_distributions={'max_depth': [10, 20, 30, 40, 50, 60,\n",
       "                                                      70, 80, 90, 100, 110],\n",
       "                                        'max_features': ['log2', 'sqrt'],\n",
       "                                        'min_samples_leaf': [2, 3, 4, 5, 6, 7,\n",
       "                                                             8, 9, 10, 11, 12,\n",
       "                                                             13, 14, 15, 16, 17,\n",
       "                                                             18, 19],\n",
       "                                        'min_samples_split': [2, 3, 4, 5, 6, 7,\n",
       "                                                              8, 9, 10, 11, 12,\n",
       "                                                              13, 14, 15, 16,\n",
       "                                                              17, 18, 19],\n",
       "                                        'n_estimators': [200, 400, 600, 800,\n",
       "                                                         1000, 1200, 1400, 1600,\n",
       "                                                         1800, 2000]},\n",
       "                   random_state=42, scoring='f1', verbose=2)"
      ]
     },
     "execution_count": 86,
     "metadata": {},
     "output_type": "execute_result"
    }
   ],
   "source": [
    "rf_cv.fit(X_smote, y_smote) #training the model"
   ]
  },
  {
   "cell_type": "code",
   "execution_count": 87,
   "id": "071513d2",
   "metadata": {},
   "outputs": [
    {
     "name": "stdout",
     "output_type": "stream",
     "text": [
      "Best paramters: {'n_estimators': 1600, 'min_samples_split': 3, 'min_samples_leaf': 2, 'max_features': 'log2', 'max_depth': 40}\n"
     ]
    }
   ],
   "source": [
    "rf_best_params = rf_cv.best_params_ ##it will give you best parameters \n",
    "print(f\"Best paramters: {rf_best_params}\") "
   ]
  },
  {
   "cell_type": "code",
   "execution_count": 88,
   "id": "bb84ddf5",
   "metadata": {},
   "outputs": [],
   "source": [
    "#passing best parameter to randomforest\n",
    "rf_clf2 = RandomForestClassifier(n_estimators= 1600, min_samples_split= 3, min_samples_leaf= 2, \n",
    "                                 max_features= 'log2', max_depth= 40)"
   ]
  },
  {
   "cell_type": "code",
   "execution_count": 89,
   "id": "e3e923c0",
   "metadata": {},
   "outputs": [
    {
     "data": {
      "text/html": [
       "<style>#sk-container-id-13 {color: black;background-color: white;}#sk-container-id-13 pre{padding: 0;}#sk-container-id-13 div.sk-toggleable {background-color: white;}#sk-container-id-13 label.sk-toggleable__label {cursor: pointer;display: block;width: 100%;margin-bottom: 0;padding: 0.3em;box-sizing: border-box;text-align: center;}#sk-container-id-13 label.sk-toggleable__label-arrow:before {content: \"▸\";float: left;margin-right: 0.25em;color: #696969;}#sk-container-id-13 label.sk-toggleable__label-arrow:hover:before {color: black;}#sk-container-id-13 div.sk-estimator:hover label.sk-toggleable__label-arrow:before {color: black;}#sk-container-id-13 div.sk-toggleable__content {max-height: 0;max-width: 0;overflow: hidden;text-align: left;background-color: #f0f8ff;}#sk-container-id-13 div.sk-toggleable__content pre {margin: 0.2em;color: black;border-radius: 0.25em;background-color: #f0f8ff;}#sk-container-id-13 input.sk-toggleable__control:checked~div.sk-toggleable__content {max-height: 200px;max-width: 100%;overflow: auto;}#sk-container-id-13 input.sk-toggleable__control:checked~label.sk-toggleable__label-arrow:before {content: \"▾\";}#sk-container-id-13 div.sk-estimator input.sk-toggleable__control:checked~label.sk-toggleable__label {background-color: #d4ebff;}#sk-container-id-13 div.sk-label input.sk-toggleable__control:checked~label.sk-toggleable__label {background-color: #d4ebff;}#sk-container-id-13 input.sk-hidden--visually {border: 0;clip: rect(1px 1px 1px 1px);clip: rect(1px, 1px, 1px, 1px);height: 1px;margin: -1px;overflow: hidden;padding: 0;position: absolute;width: 1px;}#sk-container-id-13 div.sk-estimator {font-family: monospace;background-color: #f0f8ff;border: 1px dotted black;border-radius: 0.25em;box-sizing: border-box;margin-bottom: 0.5em;}#sk-container-id-13 div.sk-estimator:hover {background-color: #d4ebff;}#sk-container-id-13 div.sk-parallel-item::after {content: \"\";width: 100%;border-bottom: 1px solid gray;flex-grow: 1;}#sk-container-id-13 div.sk-label:hover label.sk-toggleable__label {background-color: #d4ebff;}#sk-container-id-13 div.sk-serial::before {content: \"\";position: absolute;border-left: 1px solid gray;box-sizing: border-box;top: 0;bottom: 0;left: 50%;z-index: 0;}#sk-container-id-13 div.sk-serial {display: flex;flex-direction: column;align-items: center;background-color: white;padding-right: 0.2em;padding-left: 0.2em;position: relative;}#sk-container-id-13 div.sk-item {position: relative;z-index: 1;}#sk-container-id-13 div.sk-parallel {display: flex;align-items: stretch;justify-content: center;background-color: white;position: relative;}#sk-container-id-13 div.sk-item::before, #sk-container-id-13 div.sk-parallel-item::before {content: \"\";position: absolute;border-left: 1px solid gray;box-sizing: border-box;top: 0;bottom: 0;left: 50%;z-index: -1;}#sk-container-id-13 div.sk-parallel-item {display: flex;flex-direction: column;z-index: 1;position: relative;background-color: white;}#sk-container-id-13 div.sk-parallel-item:first-child::after {align-self: flex-end;width: 50%;}#sk-container-id-13 div.sk-parallel-item:last-child::after {align-self: flex-start;width: 50%;}#sk-container-id-13 div.sk-parallel-item:only-child::after {width: 0;}#sk-container-id-13 div.sk-dashed-wrapped {border: 1px dashed gray;margin: 0 0.4em 0.5em 0.4em;box-sizing: border-box;padding-bottom: 0.4em;background-color: white;}#sk-container-id-13 div.sk-label label {font-family: monospace;font-weight: bold;display: inline-block;line-height: 1.2em;}#sk-container-id-13 div.sk-label-container {text-align: center;}#sk-container-id-13 div.sk-container {/* jupyter's `normalize.less` sets `[hidden] { display: none; }` but bootstrap.min.css set `[hidden] { display: none !important; }` so we also need the `!important` here to be able to override the default hidden behavior on the sphinx rendered scikit-learn.org. See: https://github.com/scikit-learn/scikit-learn/issues/21755 */display: inline-block !important;position: relative;}#sk-container-id-13 div.sk-text-repr-fallback {display: none;}</style><div id=\"sk-container-id-13\" class=\"sk-top-container\"><div class=\"sk-text-repr-fallback\"><pre>RandomForestClassifier(max_depth=40, max_features=&#x27;log2&#x27;, min_samples_leaf=2,\n",
       "                       min_samples_split=3, n_estimators=1600)</pre><b>In a Jupyter environment, please rerun this cell to show the HTML representation or trust the notebook. <br />On GitHub, the HTML representation is unable to render, please try loading this page with nbviewer.org.</b></div><div class=\"sk-container\" hidden><div class=\"sk-item\"><div class=\"sk-estimator sk-toggleable\"><input class=\"sk-toggleable__control sk-hidden--visually\" id=\"sk-estimator-id-23\" type=\"checkbox\" checked><label for=\"sk-estimator-id-23\" class=\"sk-toggleable__label sk-toggleable__label-arrow\">RandomForestClassifier</label><div class=\"sk-toggleable__content\"><pre>RandomForestClassifier(max_depth=40, max_features=&#x27;log2&#x27;, min_samples_leaf=2,\n",
       "                       min_samples_split=3, n_estimators=1600)</pre></div></div></div></div></div>"
      ],
      "text/plain": [
       "RandomForestClassifier(max_depth=40, max_features='log2', min_samples_leaf=2,\n",
       "                       min_samples_split=3, n_estimators=1600)"
      ]
     },
     "execution_count": 89,
     "metadata": {},
     "output_type": "execute_result"
    }
   ],
   "source": [
    "rf_clf2.fit(X_smote,y_smote)"
   ]
  },
  {
   "cell_type": "markdown",
   "id": "118b9c3b",
   "metadata": {},
   "source": [
    "**Prediction on test data**"
   ]
  },
  {
   "cell_type": "code",
   "execution_count": 90,
   "id": "7c2f4084",
   "metadata": {},
   "outputs": [],
   "source": [
    "X_pred_test16 = rf_clf2.predict(X_test)"
   ]
  },
  {
   "cell_type": "markdown",
   "id": "6255477d",
   "metadata": {},
   "source": [
    "**MODEL EVALUATION OF TESTING DATA**"
   ]
  },
  {
   "cell_type": "code",
   "execution_count": 91,
   "id": "429a0e87",
   "metadata": {},
   "outputs": [
    {
     "name": "stdout",
     "output_type": "stream",
     "text": [
      "The f1 score for testing data is:  97.90476190476191\n",
      "The accuracy score for testing data is:  96.33333333333334\n",
      "The precision score for testing data is:  98.09160305343512\n",
      "The recall score for testing data is:  97.71863117870723\n",
      "Random Forest(testing score)-TUNED: \n",
      "               precision    recall  f1-score   support\n",
      "\n",
      "           0       0.84      0.86      0.85        37\n",
      "           1       0.98      0.98      0.98       263\n",
      "\n",
      "    accuracy                           0.96       300\n",
      "   macro avg       0.91      0.92      0.92       300\n",
      "weighted avg       0.96      0.96      0.96       300\n",
      "\n"
     ]
    }
   ],
   "source": [
    "print('The f1 score for testing data is: ',f1_score(y_test,X_pred_test16)*100)\n",
    "print('The accuracy score for testing data is: ',accuracy_score(y_test,X_pred_test16)*100)\n",
    "print('The precision score for testing data is: ',precision_score(y_test,X_pred_test16)*100)\n",
    "print('The recall score for testing data is: ',recall_score(y_test,X_pred_test16)*100)\n",
    "print(\"Random Forest(testing score)-TUNED: \\n\",classification_report(y_test,X_pred_test16))"
   ]
  },
  {
   "cell_type": "code",
   "execution_count": 92,
   "id": "b14e1449",
   "metadata": {},
   "outputs": [],
   "source": [
    "x=PrettyTable()"
   ]
  },
  {
   "cell_type": "code",
   "execution_count": 93,
   "id": "62fab601",
   "metadata": {},
   "outputs": [],
   "source": [
    "x.field_names = [\"Model(Test)\", \"f1_score\",\"accuracy\",\"precision\",\"recall\"]\n",
    "x.add_row([\" Random Forest (Hyperparameter)\", '97.90','96.33','98.09','97.71'])"
   ]
  },
  {
   "cell_type": "code",
   "execution_count": 94,
   "id": "8811c064",
   "metadata": {},
   "outputs": [
    {
     "name": "stdout",
     "output_type": "stream",
     "text": [
      "+---------------------------------+----------+----------+-----------+--------+\n",
      "|           Model(Test)           | f1_score | accuracy | precision | recall |\n",
      "+---------------------------------+----------+----------+-----------+--------+\n",
      "|  Random Forest (Hyperparameter) |  97.90   |  96.33   |   98.09   | 97.71  |\n",
      "+---------------------------------+----------+----------+-----------+--------+\n"
     ]
    }
   ],
   "source": [
    "print(x)"
   ]
  },
  {
   "cell_type": "markdown",
   "id": "1eabe768",
   "metadata": {},
   "source": [
    "####  **OBSERVATIONS:**"
   ]
  },
  {
   "cell_type": "markdown",
   "id": "c29583ae",
   "metadata": {},
   "source": [
    "- The testing score has low bias as shown in the table above.\n",
    "- For better understanding both the testing and training scores should be checked before considering a model to be a generalised model.\n",
    "- The tuned model doesn't have any significant difference with the untuned model."
   ]
  },
  {
   "cell_type": "markdown",
   "id": "9c507c2b",
   "metadata": {},
   "source": [
    "# Gradient Boosting"
   ]
  },
  {
   "cell_type": "code",
   "execution_count": 95,
   "id": "8e6eb701",
   "metadata": {},
   "outputs": [],
   "source": [
    "from sklearn.ensemble import GradientBoostingClassifier\n",
    "clf34 = GradientBoostingClassifier(random_state=44)"
   ]
  },
  {
   "cell_type": "code",
   "execution_count": 96,
   "id": "9324ddfd",
   "metadata": {},
   "outputs": [
    {
     "data": {
      "text/html": [
       "<style>#sk-container-id-14 {color: black;background-color: white;}#sk-container-id-14 pre{padding: 0;}#sk-container-id-14 div.sk-toggleable {background-color: white;}#sk-container-id-14 label.sk-toggleable__label {cursor: pointer;display: block;width: 100%;margin-bottom: 0;padding: 0.3em;box-sizing: border-box;text-align: center;}#sk-container-id-14 label.sk-toggleable__label-arrow:before {content: \"▸\";float: left;margin-right: 0.25em;color: #696969;}#sk-container-id-14 label.sk-toggleable__label-arrow:hover:before {color: black;}#sk-container-id-14 div.sk-estimator:hover label.sk-toggleable__label-arrow:before {color: black;}#sk-container-id-14 div.sk-toggleable__content {max-height: 0;max-width: 0;overflow: hidden;text-align: left;background-color: #f0f8ff;}#sk-container-id-14 div.sk-toggleable__content pre {margin: 0.2em;color: black;border-radius: 0.25em;background-color: #f0f8ff;}#sk-container-id-14 input.sk-toggleable__control:checked~div.sk-toggleable__content {max-height: 200px;max-width: 100%;overflow: auto;}#sk-container-id-14 input.sk-toggleable__control:checked~label.sk-toggleable__label-arrow:before {content: \"▾\";}#sk-container-id-14 div.sk-estimator input.sk-toggleable__control:checked~label.sk-toggleable__label {background-color: #d4ebff;}#sk-container-id-14 div.sk-label input.sk-toggleable__control:checked~label.sk-toggleable__label {background-color: #d4ebff;}#sk-container-id-14 input.sk-hidden--visually {border: 0;clip: rect(1px 1px 1px 1px);clip: rect(1px, 1px, 1px, 1px);height: 1px;margin: -1px;overflow: hidden;padding: 0;position: absolute;width: 1px;}#sk-container-id-14 div.sk-estimator {font-family: monospace;background-color: #f0f8ff;border: 1px dotted black;border-radius: 0.25em;box-sizing: border-box;margin-bottom: 0.5em;}#sk-container-id-14 div.sk-estimator:hover {background-color: #d4ebff;}#sk-container-id-14 div.sk-parallel-item::after {content: \"\";width: 100%;border-bottom: 1px solid gray;flex-grow: 1;}#sk-container-id-14 div.sk-label:hover label.sk-toggleable__label {background-color: #d4ebff;}#sk-container-id-14 div.sk-serial::before {content: \"\";position: absolute;border-left: 1px solid gray;box-sizing: border-box;top: 0;bottom: 0;left: 50%;z-index: 0;}#sk-container-id-14 div.sk-serial {display: flex;flex-direction: column;align-items: center;background-color: white;padding-right: 0.2em;padding-left: 0.2em;position: relative;}#sk-container-id-14 div.sk-item {position: relative;z-index: 1;}#sk-container-id-14 div.sk-parallel {display: flex;align-items: stretch;justify-content: center;background-color: white;position: relative;}#sk-container-id-14 div.sk-item::before, #sk-container-id-14 div.sk-parallel-item::before {content: \"\";position: absolute;border-left: 1px solid gray;box-sizing: border-box;top: 0;bottom: 0;left: 50%;z-index: -1;}#sk-container-id-14 div.sk-parallel-item {display: flex;flex-direction: column;z-index: 1;position: relative;background-color: white;}#sk-container-id-14 div.sk-parallel-item:first-child::after {align-self: flex-end;width: 50%;}#sk-container-id-14 div.sk-parallel-item:last-child::after {align-self: flex-start;width: 50%;}#sk-container-id-14 div.sk-parallel-item:only-child::after {width: 0;}#sk-container-id-14 div.sk-dashed-wrapped {border: 1px dashed gray;margin: 0 0.4em 0.5em 0.4em;box-sizing: border-box;padding-bottom: 0.4em;background-color: white;}#sk-container-id-14 div.sk-label label {font-family: monospace;font-weight: bold;display: inline-block;line-height: 1.2em;}#sk-container-id-14 div.sk-label-container {text-align: center;}#sk-container-id-14 div.sk-container {/* jupyter's `normalize.less` sets `[hidden] { display: none; }` but bootstrap.min.css set `[hidden] { display: none !important; }` so we also need the `!important` here to be able to override the default hidden behavior on the sphinx rendered scikit-learn.org. See: https://github.com/scikit-learn/scikit-learn/issues/21755 */display: inline-block !important;position: relative;}#sk-container-id-14 div.sk-text-repr-fallback {display: none;}</style><div id=\"sk-container-id-14\" class=\"sk-top-container\"><div class=\"sk-text-repr-fallback\"><pre>GradientBoostingClassifier(random_state=44)</pre><b>In a Jupyter environment, please rerun this cell to show the HTML representation or trust the notebook. <br />On GitHub, the HTML representation is unable to render, please try loading this page with nbviewer.org.</b></div><div class=\"sk-container\" hidden><div class=\"sk-item\"><div class=\"sk-estimator sk-toggleable\"><input class=\"sk-toggleable__control sk-hidden--visually\" id=\"sk-estimator-id-24\" type=\"checkbox\" checked><label for=\"sk-estimator-id-24\" class=\"sk-toggleable__label sk-toggleable__label-arrow\">GradientBoostingClassifier</label><div class=\"sk-toggleable__content\"><pre>GradientBoostingClassifier(random_state=44)</pre></div></div></div></div></div>"
      ],
      "text/plain": [
       "GradientBoostingClassifier(random_state=44)"
      ]
     },
     "execution_count": 96,
     "metadata": {},
     "output_type": "execute_result"
    }
   ],
   "source": [
    "clf34.fit(X_smote,y_smote)#training model with best parameter"
   ]
  },
  {
   "cell_type": "markdown",
   "id": "ed13dfe2",
   "metadata": {},
   "source": [
    "**Prediction on test data**"
   ]
  },
  {
   "cell_type": "code",
   "execution_count": 97,
   "id": "273948ee",
   "metadata": {},
   "outputs": [],
   "source": [
    "boost1 = clf34.predict(X_test)"
   ]
  },
  {
   "cell_type": "markdown",
   "id": "2a9696f5",
   "metadata": {},
   "source": [
    "**MODEL EVALUATION OF TESTING DATA**"
   ]
  },
  {
   "cell_type": "code",
   "execution_count": 98,
   "id": "ef0c78e1",
   "metadata": {},
   "outputs": [
    {
     "name": "stdout",
     "output_type": "stream",
     "text": [
      "The f1 score for testing data is:  98.27915869980879\n",
      "The accuracy score for testing data is:  97.0\n",
      "The precision score for testing data is:  98.84615384615385\n",
      "The recall score for testing data is:  97.71863117870723\n",
      "Gradient Boosting: \n",
      "               precision    recall  f1-score   support\n",
      "\n",
      "           0       0.85      0.92      0.88        37\n",
      "           1       0.99      0.98      0.98       263\n",
      "\n",
      "    accuracy                           0.97       300\n",
      "   macro avg       0.92      0.95      0.93       300\n",
      "weighted avg       0.97      0.97      0.97       300\n",
      "\n"
     ]
    }
   ],
   "source": [
    "print('The f1 score for testing data is: ',f1_score(y_test,boost1)*100)\n",
    "print('The accuracy score for testing data is: ',accuracy_score(y_test,boost1)*100)\n",
    "print('The precision score for testing data is: ',precision_score(y_test,boost1)*100)\n",
    "print('The recall score for testing data is: ',recall_score(y_test,boost1)*100)\n",
    "print(\"Gradient Boosting: \\n\",classification_report(y_test,boost1))"
   ]
  },
  {
   "cell_type": "code",
   "execution_count": 99,
   "id": "e3102e33",
   "metadata": {},
   "outputs": [],
   "source": [
    "x=PrettyTable()"
   ]
  },
  {
   "cell_type": "code",
   "execution_count": 100,
   "id": "26c8ba25",
   "metadata": {},
   "outputs": [],
   "source": [
    "x.field_names = [\"Model(Test)\", \"f1_score\",\"accuracy\",\"precision\",\"recall\"]\n",
    "x.add_row([\"Gradient Boosting\", \"98.27\",'97.0','98.84','97.71'])"
   ]
  },
  {
   "cell_type": "code",
   "execution_count": 101,
   "id": "32e55469",
   "metadata": {},
   "outputs": [
    {
     "name": "stdout",
     "output_type": "stream",
     "text": [
      "+-------------------+----------+----------+-----------+--------+\n",
      "|    Model(Test)    | f1_score | accuracy | precision | recall |\n",
      "+-------------------+----------+----------+-----------+--------+\n",
      "| Gradient Boosting |  98.27   |   97.0   |   98.84   | 97.71  |\n",
      "+-------------------+----------+----------+-----------+--------+\n"
     ]
    }
   ],
   "source": [
    "x.field_names = [\"Model(Test)\", \"f1_score\",\"accuracy\",\"precision\",\"recall\"]\n",
    "x.add_row([\"Gradient Boosting\", \"98.27\",'97.0','98.84','97.71'])"
   ]
  },
  {
   "cell_type": "markdown",
   "id": "1c6cdd9f",
   "metadata": {},
   "source": [
    "####  **OBSERVATIONS:**"
   ]
  },
  {
   "cell_type": "markdown",
   "id": "872d31a7",
   "metadata": {},
   "source": [
    "- The testing score has low bias as shown in the table above.\n",
    "- For better understanding both the testing and training scores should be checked before considering a model to be a generalised model."
   ]
  },
  {
   "cell_type": "markdown",
   "id": "d5ec8d2d",
   "metadata": {},
   "source": [
    "# Artificial Neural Network [MLP Classifier]"
   ]
  },
  {
   "cell_type": "code",
   "execution_count": 102,
   "id": "49b0c2f8",
   "metadata": {},
   "outputs": [],
   "source": [
    "# Importing library and object creation\n",
    "from sklearn.neural_network import MLPClassifier\n",
    "model = MLPClassifier(hidden_layer_sizes=(60,3),\n",
    "                      learning_rate='constant',\n",
    "                      max_iter=250,\n",
    "                      random_state=42)"
   ]
  },
  {
   "cell_type": "code",
   "execution_count": 103,
   "id": "49405131",
   "metadata": {},
   "outputs": [
    {
     "data": {
      "text/html": [
       "<style>#sk-container-id-15 {color: black;background-color: white;}#sk-container-id-15 pre{padding: 0;}#sk-container-id-15 div.sk-toggleable {background-color: white;}#sk-container-id-15 label.sk-toggleable__label {cursor: pointer;display: block;width: 100%;margin-bottom: 0;padding: 0.3em;box-sizing: border-box;text-align: center;}#sk-container-id-15 label.sk-toggleable__label-arrow:before {content: \"▸\";float: left;margin-right: 0.25em;color: #696969;}#sk-container-id-15 label.sk-toggleable__label-arrow:hover:before {color: black;}#sk-container-id-15 div.sk-estimator:hover label.sk-toggleable__label-arrow:before {color: black;}#sk-container-id-15 div.sk-toggleable__content {max-height: 0;max-width: 0;overflow: hidden;text-align: left;background-color: #f0f8ff;}#sk-container-id-15 div.sk-toggleable__content pre {margin: 0.2em;color: black;border-radius: 0.25em;background-color: #f0f8ff;}#sk-container-id-15 input.sk-toggleable__control:checked~div.sk-toggleable__content {max-height: 200px;max-width: 100%;overflow: auto;}#sk-container-id-15 input.sk-toggleable__control:checked~label.sk-toggleable__label-arrow:before {content: \"▾\";}#sk-container-id-15 div.sk-estimator input.sk-toggleable__control:checked~label.sk-toggleable__label {background-color: #d4ebff;}#sk-container-id-15 div.sk-label input.sk-toggleable__control:checked~label.sk-toggleable__label {background-color: #d4ebff;}#sk-container-id-15 input.sk-hidden--visually {border: 0;clip: rect(1px 1px 1px 1px);clip: rect(1px, 1px, 1px, 1px);height: 1px;margin: -1px;overflow: hidden;padding: 0;position: absolute;width: 1px;}#sk-container-id-15 div.sk-estimator {font-family: monospace;background-color: #f0f8ff;border: 1px dotted black;border-radius: 0.25em;box-sizing: border-box;margin-bottom: 0.5em;}#sk-container-id-15 div.sk-estimator:hover {background-color: #d4ebff;}#sk-container-id-15 div.sk-parallel-item::after {content: \"\";width: 100%;border-bottom: 1px solid gray;flex-grow: 1;}#sk-container-id-15 div.sk-label:hover label.sk-toggleable__label {background-color: #d4ebff;}#sk-container-id-15 div.sk-serial::before {content: \"\";position: absolute;border-left: 1px solid gray;box-sizing: border-box;top: 0;bottom: 0;left: 50%;z-index: 0;}#sk-container-id-15 div.sk-serial {display: flex;flex-direction: column;align-items: center;background-color: white;padding-right: 0.2em;padding-left: 0.2em;position: relative;}#sk-container-id-15 div.sk-item {position: relative;z-index: 1;}#sk-container-id-15 div.sk-parallel {display: flex;align-items: stretch;justify-content: center;background-color: white;position: relative;}#sk-container-id-15 div.sk-item::before, #sk-container-id-15 div.sk-parallel-item::before {content: \"\";position: absolute;border-left: 1px solid gray;box-sizing: border-box;top: 0;bottom: 0;left: 50%;z-index: -1;}#sk-container-id-15 div.sk-parallel-item {display: flex;flex-direction: column;z-index: 1;position: relative;background-color: white;}#sk-container-id-15 div.sk-parallel-item:first-child::after {align-self: flex-end;width: 50%;}#sk-container-id-15 div.sk-parallel-item:last-child::after {align-self: flex-start;width: 50%;}#sk-container-id-15 div.sk-parallel-item:only-child::after {width: 0;}#sk-container-id-15 div.sk-dashed-wrapped {border: 1px dashed gray;margin: 0 0.4em 0.5em 0.4em;box-sizing: border-box;padding-bottom: 0.4em;background-color: white;}#sk-container-id-15 div.sk-label label {font-family: monospace;font-weight: bold;display: inline-block;line-height: 1.2em;}#sk-container-id-15 div.sk-label-container {text-align: center;}#sk-container-id-15 div.sk-container {/* jupyter's `normalize.less` sets `[hidden] { display: none; }` but bootstrap.min.css set `[hidden] { display: none !important; }` so we also need the `!important` here to be able to override the default hidden behavior on the sphinx rendered scikit-learn.org. See: https://github.com/scikit-learn/scikit-learn/issues/21755 */display: inline-block !important;position: relative;}#sk-container-id-15 div.sk-text-repr-fallback {display: none;}</style><div id=\"sk-container-id-15\" class=\"sk-top-container\"><div class=\"sk-text-repr-fallback\"><pre>MLPClassifier(hidden_layer_sizes=(60, 3), max_iter=250, random_state=42)</pre><b>In a Jupyter environment, please rerun this cell to show the HTML representation or trust the notebook. <br />On GitHub, the HTML representation is unable to render, please try loading this page with nbviewer.org.</b></div><div class=\"sk-container\" hidden><div class=\"sk-item\"><div class=\"sk-estimator sk-toggleable\"><input class=\"sk-toggleable__control sk-hidden--visually\" id=\"sk-estimator-id-25\" type=\"checkbox\" checked><label for=\"sk-estimator-id-25\" class=\"sk-toggleable__label sk-toggleable__label-arrow\">MLPClassifier</label><div class=\"sk-toggleable__content\"><pre>MLPClassifier(hidden_layer_sizes=(60, 3), max_iter=250, random_state=42)</pre></div></div></div></div></div>"
      ],
      "text/plain": [
       "MLPClassifier(hidden_layer_sizes=(60, 3), max_iter=250, random_state=42)"
      ]
     },
     "execution_count": 103,
     "metadata": {},
     "output_type": "execute_result"
    }
   ],
   "source": [
    "# Fitting the training data\n",
    "model.fit(X_smote,y_smote)"
   ]
  },
  {
   "cell_type": "markdown",
   "id": "4ad05316",
   "metadata": {},
   "source": [
    "**Prediction on test data**"
   ]
  },
  {
   "cell_type": "code",
   "execution_count": 104,
   "id": "00cfda2e",
   "metadata": {},
   "outputs": [],
   "source": [
    "mlp1= model.predict(X_test)"
   ]
  },
  {
   "cell_type": "markdown",
   "id": "c95705df",
   "metadata": {},
   "source": [
    "**MODEL EVALUATION OF TESTING DATA**"
   ]
  },
  {
   "cell_type": "code",
   "execution_count": 105,
   "id": "5e2abf8f",
   "metadata": {},
   "outputs": [
    {
     "name": "stdout",
     "output_type": "stream",
     "text": [
      "The f1 score for testing data is:  96.00000000000001\n",
      "The accuracy score for testing data is:  93.0\n",
      "The precision score for testing data is:  96.18320610687023\n",
      "The recall score for testing data is:  95.81749049429658\n",
      "Artificial Neural Network [MLP Classifier]: \n",
      "               precision    recall  f1-score   support\n",
      "\n",
      "           0       0.71      0.73      0.72        37\n",
      "           1       0.96      0.96      0.96       263\n",
      "\n",
      "    accuracy                           0.93       300\n",
      "   macro avg       0.84      0.84      0.84       300\n",
      "weighted avg       0.93      0.93      0.93       300\n",
      "\n"
     ]
    }
   ],
   "source": [
    "print('The f1 score for testing data is: ',f1_score(y_test,mlp1)*100)\n",
    "print('The accuracy score for testing data is: ',accuracy_score(y_test,mlp1)*100)\n",
    "print('The precision score for testing data is: ',precision_score(y_test,mlp1)*100)\n",
    "print('The recall score for testing data is: ',recall_score(y_test,mlp1)*100)\n",
    "print(\"Artificial Neural Network [MLP Classifier]: \\n\",classification_report(y_test,mlp1))"
   ]
  },
  {
   "cell_type": "code",
   "execution_count": 113,
   "id": "7abb8c75",
   "metadata": {},
   "outputs": [],
   "source": [
    "x=PrettyTable()"
   ]
  },
  {
   "cell_type": "code",
   "execution_count": 114,
   "id": "afe122bc",
   "metadata": {},
   "outputs": [],
   "source": [
    "x.field_names = [\"Model(Test)\", \"f1_score\",\"accuracy\",\"precision\",\"recall\"]\n",
    "x.add_row([\" Artificial Neural Network [MLP Classifier]\", \"96.0\",'0.93.0','96.18','95.81'])"
   ]
  },
  {
   "cell_type": "code",
   "execution_count": 115,
   "id": "db84ee69",
   "metadata": {},
   "outputs": [
    {
     "name": "stdout",
     "output_type": "stream",
     "text": [
      "+---------------------------------------------+----------+----------+-----------+--------+\n",
      "|                 Model(Test)                 | f1_score | accuracy | precision | recall |\n",
      "+---------------------------------------------+----------+----------+-----------+--------+\n",
      "|  Artificial Neural Network [MLP Classifier] |   96.0   |  0.93.0  |   96.18   | 95.81  |\n",
      "+---------------------------------------------+----------+----------+-----------+--------+\n"
     ]
    }
   ],
   "source": [
    "print(x)"
   ]
  },
  {
   "cell_type": "markdown",
   "id": "89542e55",
   "metadata": {},
   "source": [
    "####  **OBSERVATIONS:**"
   ]
  },
  {
   "cell_type": "markdown",
   "id": "5b1b03eb",
   "metadata": {},
   "source": [
    "- The testing score has low bias as shown in the table above.\n",
    "- For better understanding both the testing and training scores should be checked before considering a model to be a generalised model."
   ]
  },
  {
   "cell_type": "markdown",
   "id": "1ec2d20c",
   "metadata": {},
   "source": [
    "# Conclusion:"
   ]
  },
  {
   "cell_type": "markdown",
   "id": "ea42ebce",
   "metadata": {},
   "source": [
    "- Eleven machine learning models i.e Logistic Regression, Support Vector Machine(Classifier),Support Vector Machine(Classifier)-Hyperparameter tuning, K-Nearest Neighbour(Classifier),K-Nearest Neighbour(Bagging)-Ensemble technique, Decision Tree(Classifier), Decision Tree(Classifier)-Hyperparameter tuning, Random Forest, Random Forest-Hyperparameter tuning, Gradient Bossting- Boosting Technique and Artificial Neural Network were examined to predict the performance rating of the employees in the company.\n",
    "- Ensemble techniques such as bagging and boosting is also used.\n",
    "- The training and testing data were used to train and test the data.These records were used to extract a number of characteristics.My suggested model can estimate the performance rating of the employees in the business level.\n",
    "- The original dataset was a multiclass classification task but for better understanding and better model evaluation the dataset was converted into a binary classification task.\n",
    "- Almost all the model performed well in the testing data with good f1-score,accuracy,precision and recall.\n",
    "- For better understanding and to conclude about the data, the training score of the model is also important.\n",
    "- In the summary report the detail training and testing scores are mentioned along with the best model.\n"
   ]
  }
 ],
 "metadata": {
  "kernelspec": {
   "display_name": "Python 3 (ipykernel)",
   "language": "python",
   "name": "python3"
  },
  "language_info": {
   "codemirror_mode": {
    "name": "ipython",
    "version": 3
   },
   "file_extension": ".py",
   "mimetype": "text/x-python",
   "name": "python",
   "nbconvert_exporter": "python",
   "pygments_lexer": "ipython3",
   "version": "3.9.7"
  }
 },
 "nbformat": 4,
 "nbformat_minor": 5
}
